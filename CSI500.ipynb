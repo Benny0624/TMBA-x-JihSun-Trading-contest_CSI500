{
 "cells": [
  {
   "cell_type": "markdown",
   "metadata": {},
   "source": [
    "## CSI Futures Data"
   ]
  },
  {
   "cell_type": "markdown",
   "metadata": {},
   "source": [
    "#### CSI500 : http://www.csindex.com.cn/en/indices/index-detail/000905\n",
    "#### 價差 : http://a0.pise.pw/KZ3PX"
   ]
  },
  {
   "cell_type": "code",
   "execution_count": 1,
   "metadata": {},
   "outputs": [],
   "source": [
    "# import packages\n",
    "import os\n",
    "import pandas as pd\n",
    "import numpy as np\n",
    "import matplotlib.pyplot as plt \n",
    "from matplotlib.pylab import date2num\n",
    "from datetime import datetime, timedelta\n",
    "import seaborn as sns\n",
    "%matplotlib inline\n",
    "plt.style.use('ggplot')\n",
    "import warnings\n",
    "warnings.filterwarnings('ignore')"
   ]
  },
  {
   "cell_type": "code",
   "execution_count": 2,
   "metadata": {
    "scrolled": true
   },
   "outputs": [
    {
     "data": {
      "text/html": [
       "<div>\n",
       "<style scoped>\n",
       "    .dataframe tbody tr th:only-of-type {\n",
       "        vertical-align: middle;\n",
       "    }\n",
       "\n",
       "    .dataframe tbody tr th {\n",
       "        vertical-align: top;\n",
       "    }\n",
       "\n",
       "    .dataframe thead th {\n",
       "        text-align: right;\n",
       "    }\n",
       "</style>\n",
       "<table border=\"1\" class=\"dataframe\">\n",
       "  <thead>\n",
       "    <tr style=\"text-align: right;\">\n",
       "      <th></th>\n",
       "      <th>Date</th>\n",
       "      <th>Time</th>\n",
       "      <th>Open</th>\n",
       "      <th>High</th>\n",
       "      <th>Low</th>\n",
       "      <th>Close</th>\n",
       "      <th>TotalVolume</th>\n",
       "      <th>Date_Time</th>\n",
       "      <th>Year</th>\n",
       "      <th>Month</th>\n",
       "      <th>Week_day</th>\n",
       "      <th>Range</th>\n",
       "      <th>Diff</th>\n",
       "      <th>Rotate</th>\n",
       "      <th>Up_down</th>\n",
       "      <th>Return</th>\n",
       "      <th>P_Return</th>\n",
       "    </tr>\n",
       "  </thead>\n",
       "  <tbody>\n",
       "    <tr>\n",
       "      <th>0</th>\n",
       "      <td>2015-04-17</td>\n",
       "      <td>09:14:00</td>\n",
       "      <td>7722.0</td>\n",
       "      <td>7722.0</td>\n",
       "      <td>7722.0</td>\n",
       "      <td>7722.0</td>\n",
       "      <td>28</td>\n",
       "      <td>2015-04-17 09:14:00</td>\n",
       "      <td>2015</td>\n",
       "      <td>4</td>\n",
       "      <td>5</td>\n",
       "      <td>0.0</td>\n",
       "      <td>0.0</td>\n",
       "      <td>NaN</td>\n",
       "      <td>0</td>\n",
       "      <td>0.000000</td>\n",
       "      <td>0.000000</td>\n",
       "    </tr>\n",
       "    <tr>\n",
       "      <th>1</th>\n",
       "      <td>2015-04-17</td>\n",
       "      <td>09:15:00</td>\n",
       "      <td>7712.0</td>\n",
       "      <td>7727.6</td>\n",
       "      <td>7708.4</td>\n",
       "      <td>7708.4</td>\n",
       "      <td>608</td>\n",
       "      <td>2015-04-17 09:15:00</td>\n",
       "      <td>2015</td>\n",
       "      <td>4</td>\n",
       "      <td>5</td>\n",
       "      <td>19.2</td>\n",
       "      <td>-3.6</td>\n",
       "      <td>0.187500</td>\n",
       "      <td>-1</td>\n",
       "      <td>-0.046680</td>\n",
       "      <td>0.249079</td>\n",
       "    </tr>\n",
       "    <tr>\n",
       "      <th>2</th>\n",
       "      <td>2015-04-17</td>\n",
       "      <td>09:16:00</td>\n",
       "      <td>7722.0</td>\n",
       "      <td>7727.6</td>\n",
       "      <td>7708.4</td>\n",
       "      <td>7708.4</td>\n",
       "      <td>636</td>\n",
       "      <td>2015-04-17 09:16:00</td>\n",
       "      <td>2015</td>\n",
       "      <td>4</td>\n",
       "      <td>5</td>\n",
       "      <td>19.2</td>\n",
       "      <td>-13.6</td>\n",
       "      <td>0.708333</td>\n",
       "      <td>-1</td>\n",
       "      <td>-0.176120</td>\n",
       "      <td>0.249079</td>\n",
       "    </tr>\n",
       "    <tr>\n",
       "      <th>3</th>\n",
       "      <td>2015-04-17</td>\n",
       "      <td>09:17:00</td>\n",
       "      <td>7709.4</td>\n",
       "      <td>7709.4</td>\n",
       "      <td>7700.4</td>\n",
       "      <td>7700.4</td>\n",
       "      <td>466</td>\n",
       "      <td>2015-04-17 09:17:00</td>\n",
       "      <td>2015</td>\n",
       "      <td>4</td>\n",
       "      <td>5</td>\n",
       "      <td>9.0</td>\n",
       "      <td>-9.0</td>\n",
       "      <td>1.000000</td>\n",
       "      <td>-1</td>\n",
       "      <td>-0.116741</td>\n",
       "      <td>0.116877</td>\n",
       "    </tr>\n",
       "    <tr>\n",
       "      <th>4</th>\n",
       "      <td>2015-04-17</td>\n",
       "      <td>09:18:00</td>\n",
       "      <td>7700.0</td>\n",
       "      <td>7704.6</td>\n",
       "      <td>7699.2</td>\n",
       "      <td>7699.4</td>\n",
       "      <td>370</td>\n",
       "      <td>2015-04-17 09:18:00</td>\n",
       "      <td>2015</td>\n",
       "      <td>4</td>\n",
       "      <td>5</td>\n",
       "      <td>5.4</td>\n",
       "      <td>-0.6</td>\n",
       "      <td>0.111111</td>\n",
       "      <td>-1</td>\n",
       "      <td>-0.007792</td>\n",
       "      <td>0.070137</td>\n",
       "    </tr>\n",
       "  </tbody>\n",
       "</table>\n",
       "</div>"
      ],
      "text/plain": [
       "        Date      Time    Open    High     Low   Close  TotalVolume  \\\n",
       "0 2015-04-17  09:14:00  7722.0  7722.0  7722.0  7722.0           28   \n",
       "1 2015-04-17  09:15:00  7712.0  7727.6  7708.4  7708.4          608   \n",
       "2 2015-04-17  09:16:00  7722.0  7727.6  7708.4  7708.4          636   \n",
       "3 2015-04-17  09:17:00  7709.4  7709.4  7700.4  7700.4          466   \n",
       "4 2015-04-17  09:18:00  7700.0  7704.6  7699.2  7699.4          370   \n",
       "\n",
       "            Date_Time  Year  Month  Week_day  Range  Diff    Rotate  Up_down  \\\n",
       "0 2015-04-17 09:14:00  2015      4         5    0.0   0.0       NaN        0   \n",
       "1 2015-04-17 09:15:00  2015      4         5   19.2  -3.6  0.187500       -1   \n",
       "2 2015-04-17 09:16:00  2015      4         5   19.2 -13.6  0.708333       -1   \n",
       "3 2015-04-17 09:17:00  2015      4         5    9.0  -9.0  1.000000       -1   \n",
       "4 2015-04-17 09:18:00  2015      4         5    5.4  -0.6  0.111111       -1   \n",
       "\n",
       "     Return  P_Return  \n",
       "0  0.000000  0.000000  \n",
       "1 -0.046680  0.249079  \n",
       "2 -0.176120  0.249079  \n",
       "3 -0.116741  0.116877  \n",
       "4 -0.007792  0.070137  "
      ]
     },
     "execution_count": 2,
     "metadata": {},
     "output_type": "execute_result"
    }
   ],
   "source": [
    "# import data\n",
    "dir_data = 'C:\\\\Users\\\\user\\\\Desktop\\\\MultiChart\\\\中證500股指期貨'\n",
    "Data_Path = os.path.join(dir_data, 'CFFEX.IC HOT.txt')\n",
    "CSI500 = pd.read_csv(Data_Path, engine='python')\n",
    "CSI500.dropna(how='any',inplace=True)\n",
    "CSI500.Date = pd.to_datetime(CSI500.Date)\n",
    "CSI500['Date_Time'] = pd.to_datetime(CSI500['Date'].map(lambda x: str(x)) + ' ' + CSI500['Time'])\n",
    "# Create Year & month & Return\n",
    "CSI500['Year'] = CSI500['Date'].map(lambda x: x.year)\n",
    "CSI500['Month'] = CSI500['Date'].map(lambda x: x.month)\n",
    "CSI500['Week_day'] = CSI500['Date'].map(lambda x: x.weekday() + 1)\n",
    "CSI500['Range'] = CSI500['High'] - CSI500['Low']\n",
    "CSI500['Diff'] = CSI500['Close'] - CSI500['Open']\n",
    "CSI500['Rotate'] = abs(CSI500['Diff']) / CSI500['Range']\n",
    "CSI500['Up_down'] = CSI500['Diff'].map(lambda x: 1 if x > 0 else (-1 if x < 0 else 0))\n",
    "CSI500['Return'] = ((CSI500['Close'] - CSI500['Open']) / CSI500['Open'])*100\n",
    "CSI500['P_Return'] = ((CSI500['High'] - CSI500['Low']) / CSI500['Low'])*100\n",
    "# Sort CSI500 by Date\n",
    "CSI500 = CSI500.sort_values(by = ['Date_Time'])\n",
    "Year_sorted = np.sort(CSI500.Year.unique())\n",
    "CSI500.head()"
   ]
  },
  {
   "cell_type": "code",
   "execution_count": 3,
   "metadata": {
    "scrolled": false
   },
   "outputs": [
    {
     "data": {
      "text/html": [
       "<div>\n",
       "<style scoped>\n",
       "    .dataframe tbody tr th:only-of-type {\n",
       "        vertical-align: middle;\n",
       "    }\n",
       "\n",
       "    .dataframe tbody tr th {\n",
       "        vertical-align: top;\n",
       "    }\n",
       "\n",
       "    .dataframe thead th {\n",
       "        text-align: right;\n",
       "    }\n",
       "</style>\n",
       "<table border=\"1\" class=\"dataframe\">\n",
       "  <thead>\n",
       "    <tr style=\"text-align: right;\">\n",
       "      <th></th>\n",
       "      <th>Date</th>\n",
       "      <th>Time</th>\n",
       "      <th>Open</th>\n",
       "      <th>High</th>\n",
       "      <th>Low</th>\n",
       "      <th>Close</th>\n",
       "      <th>TotalVolume</th>\n",
       "      <th>Date_Time</th>\n",
       "      <th>Year</th>\n",
       "      <th>Month</th>\n",
       "      <th>Week_day</th>\n",
       "      <th>Range</th>\n",
       "      <th>Diff</th>\n",
       "      <th>Rotate</th>\n",
       "      <th>Up_down</th>\n",
       "      <th>Return</th>\n",
       "      <th>P_Return</th>\n",
       "      <th>Hour</th>\n",
       "      <th>Min</th>\n",
       "    </tr>\n",
       "  </thead>\n",
       "  <tbody>\n",
       "    <tr>\n",
       "      <th>0</th>\n",
       "      <td>2015-04-17</td>\n",
       "      <td>09:14:00</td>\n",
       "      <td>7722.0</td>\n",
       "      <td>7722.0</td>\n",
       "      <td>7722.0</td>\n",
       "      <td>7722.0</td>\n",
       "      <td>28</td>\n",
       "      <td>2015-04-17 09:14:00</td>\n",
       "      <td>2015</td>\n",
       "      <td>4</td>\n",
       "      <td>5</td>\n",
       "      <td>0.0</td>\n",
       "      <td>0.0</td>\n",
       "      <td>NaN</td>\n",
       "      <td>0</td>\n",
       "      <td>0.000000</td>\n",
       "      <td>0.000000</td>\n",
       "      <td>9</td>\n",
       "      <td>14</td>\n",
       "    </tr>\n",
       "    <tr>\n",
       "      <th>1</th>\n",
       "      <td>2015-04-17</td>\n",
       "      <td>09:15:00</td>\n",
       "      <td>7712.0</td>\n",
       "      <td>7727.6</td>\n",
       "      <td>7708.4</td>\n",
       "      <td>7708.4</td>\n",
       "      <td>608</td>\n",
       "      <td>2015-04-17 09:15:00</td>\n",
       "      <td>2015</td>\n",
       "      <td>4</td>\n",
       "      <td>5</td>\n",
       "      <td>19.2</td>\n",
       "      <td>-3.6</td>\n",
       "      <td>0.187500</td>\n",
       "      <td>-1</td>\n",
       "      <td>-0.046680</td>\n",
       "      <td>0.249079</td>\n",
       "      <td>9</td>\n",
       "      <td>15</td>\n",
       "    </tr>\n",
       "    <tr>\n",
       "      <th>2</th>\n",
       "      <td>2015-04-17</td>\n",
       "      <td>09:16:00</td>\n",
       "      <td>7722.0</td>\n",
       "      <td>7727.6</td>\n",
       "      <td>7708.4</td>\n",
       "      <td>7708.4</td>\n",
       "      <td>636</td>\n",
       "      <td>2015-04-17 09:16:00</td>\n",
       "      <td>2015</td>\n",
       "      <td>4</td>\n",
       "      <td>5</td>\n",
       "      <td>19.2</td>\n",
       "      <td>-13.6</td>\n",
       "      <td>0.708333</td>\n",
       "      <td>-1</td>\n",
       "      <td>-0.176120</td>\n",
       "      <td>0.249079</td>\n",
       "      <td>9</td>\n",
       "      <td>16</td>\n",
       "    </tr>\n",
       "    <tr>\n",
       "      <th>3</th>\n",
       "      <td>2015-04-17</td>\n",
       "      <td>09:17:00</td>\n",
       "      <td>7709.4</td>\n",
       "      <td>7709.4</td>\n",
       "      <td>7700.4</td>\n",
       "      <td>7700.4</td>\n",
       "      <td>466</td>\n",
       "      <td>2015-04-17 09:17:00</td>\n",
       "      <td>2015</td>\n",
       "      <td>4</td>\n",
       "      <td>5</td>\n",
       "      <td>9.0</td>\n",
       "      <td>-9.0</td>\n",
       "      <td>1.000000</td>\n",
       "      <td>-1</td>\n",
       "      <td>-0.116741</td>\n",
       "      <td>0.116877</td>\n",
       "      <td>9</td>\n",
       "      <td>17</td>\n",
       "    </tr>\n",
       "    <tr>\n",
       "      <th>4</th>\n",
       "      <td>2015-04-17</td>\n",
       "      <td>09:18:00</td>\n",
       "      <td>7700.0</td>\n",
       "      <td>7704.6</td>\n",
       "      <td>7699.2</td>\n",
       "      <td>7699.4</td>\n",
       "      <td>370</td>\n",
       "      <td>2015-04-17 09:18:00</td>\n",
       "      <td>2015</td>\n",
       "      <td>4</td>\n",
       "      <td>5</td>\n",
       "      <td>5.4</td>\n",
       "      <td>-0.6</td>\n",
       "      <td>0.111111</td>\n",
       "      <td>-1</td>\n",
       "      <td>-0.007792</td>\n",
       "      <td>0.070137</td>\n",
       "      <td>9</td>\n",
       "      <td>18</td>\n",
       "    </tr>\n",
       "  </tbody>\n",
       "</table>\n",
       "</div>"
      ],
      "text/plain": [
       "        Date      Time    Open    High     Low   Close  TotalVolume  \\\n",
       "0 2015-04-17  09:14:00  7722.0  7722.0  7722.0  7722.0           28   \n",
       "1 2015-04-17  09:15:00  7712.0  7727.6  7708.4  7708.4          608   \n",
       "2 2015-04-17  09:16:00  7722.0  7727.6  7708.4  7708.4          636   \n",
       "3 2015-04-17  09:17:00  7709.4  7709.4  7700.4  7700.4          466   \n",
       "4 2015-04-17  09:18:00  7700.0  7704.6  7699.2  7699.4          370   \n",
       "\n",
       "            Date_Time  Year  Month  Week_day  Range  Diff    Rotate  Up_down  \\\n",
       "0 2015-04-17 09:14:00  2015      4         5    0.0   0.0       NaN        0   \n",
       "1 2015-04-17 09:15:00  2015      4         5   19.2  -3.6  0.187500       -1   \n",
       "2 2015-04-17 09:16:00  2015      4         5   19.2 -13.6  0.708333       -1   \n",
       "3 2015-04-17 09:17:00  2015      4         5    9.0  -9.0  1.000000       -1   \n",
       "4 2015-04-17 09:18:00  2015      4         5    5.4  -0.6  0.111111       -1   \n",
       "\n",
       "     Return  P_Return  Hour  Min  \n",
       "0  0.000000  0.000000     9   14  \n",
       "1 -0.046680  0.249079     9   15  \n",
       "2 -0.176120  0.249079     9   16  \n",
       "3 -0.116741  0.116877     9   17  \n",
       "4 -0.007792  0.070137     9   18  "
      ]
     },
     "execution_count": 3,
     "metadata": {},
     "output_type": "execute_result"
    }
   ],
   "source": [
    "# Split time\n",
    "time = CSI500['Time'].str.split(':', 2, expand = True)\n",
    "CSI500['Hour'] = time[0].astype(int)\n",
    "CSI500['Min'] = time[1].astype(int)\n",
    "CSI500.head()"
   ]
  },
  {
   "cell_type": "code",
   "execution_count": 4,
   "metadata": {},
   "outputs": [],
   "source": [
    "# Calculate consecutive ups and downs\n",
    "# ref:https://codereview.stackexchange.com/questions/138550/count-consecutive-ones-in-a-binary-list\n",
    "def Go_up_num(Series):\n",
    "    positive_list = []\n",
    "    longest = 0\n",
    "    current = 0\n",
    "    for i in Series:\n",
    "        if i == 1:\n",
    "            current += 1\n",
    "        else:\n",
    "            longest = max(longest, current)\n",
    "            positive_list.append(longest)\n",
    "            current = 0\n",
    "    return positive_list\n",
    "\n",
    "def Go_down_num(Series):\n",
    "    negative_list = []\n",
    "    longest = 0\n",
    "    current = 0\n",
    "    for i in Series:\n",
    "        if i == -1:\n",
    "            current += 1\n",
    "        else:\n",
    "            longest = max(longest, current)\n",
    "            negative_list.append(longest)\n",
    "            current = 0\n",
    "    return negative_list"
   ]
  },
  {
   "cell_type": "code",
   "execution_count": 83,
   "metadata": {},
   "outputs": [],
   "source": [
    "#Split data (Train/ Test)\n",
    "start_date = datetime.strptime('2015-08-01', '%Y-%m-%d')\n",
    "end_date = datetime.strptime('2018-08-01', '%Y-%m-%d')\n",
    "msk = (CSI500['Date'] <= end_date) & (CSI500['Date'] >= start_date)\n",
    "CSI500_train = CSI500.loc[msk]\n",
    "CSI500_test = CSI500.loc[~msk]"
   ]
  },
  {
   "cell_type": "code",
   "execution_count": 27,
   "metadata": {
    "scrolled": true
   },
   "outputs": [
    {
     "data": {
      "image/png": "[encoded data removed]",
      "text/plain": [
       "<Figure size 576x144 with 1 Axes>"
      ]
     },
     "metadata": {
      "needs_background": "light"
     },
     "output_type": "display_data"
    }
   ],
   "source": [
    "# Box plot for Whole\n",
    "plt.figure(figsize=(8,2))    \n",
    "sns.boxplot(CSI500.loc[:, 'Close'])\n",
    "plt.title('Boxplot for Whole')\n",
    "plt.show()"
   ]
  },
  {
   "cell_type": "code",
   "execution_count": 84,
   "metadata": {
    "scrolled": false
   },
   "outputs": [
    {
     "data": {
      "image/png": "[encoded data removed]",
      "text/plain": [
       "<Figure size 576x144 with 1 Axes>"
      ]
     },
     "metadata": {
      "needs_background": "light"
     },
     "output_type": "display_data"
    }
   ],
   "source": [
    "# Box plot for Training data\n",
    "plt.figure(figsize=(8,2))    \n",
    "sns.boxplot(CSI500_train.loc[:, 'Close'])\n",
    "plt.title('Boxplot for Training data')\n",
    "plt.show()"
   ]
  },
  {
   "cell_type": "code",
   "execution_count": 43,
   "metadata": {
    "scrolled": true
   },
   "outputs": [
    {
     "data": {
      "image/png": "[encoded data removed]",
      "text/plain": [
       "<Figure size 720x360 with 1 Axes>"
      ]
     },
     "metadata": {
      "needs_background": "light"
     },
     "output_type": "display_data"
    }
   ],
   "source": [
    "# Draw 6 Boxplots group by year\n",
    "plt.figure(figsize=(10,5))\n",
    "sns.boxplot(x='Year', y='Close', data=CSI500)\n",
    "plt.title('Boxplot of Year group')\n",
    "plt.show()"
   ]
  },
  {
   "cell_type": "code",
   "execution_count": 7,
   "metadata": {
    "scrolled": false
   },
   "outputs": [
    {
     "data": {
      "image/png": "[encoded data removed]",
      "text/plain": [
       "<matplotlib.figure.Figure at 0x1de2ef572b0>"
      ]
     },
     "metadata": {},
     "output_type": "display_data"
    }
   ],
   "source": [
    "plt.figure(figsize=(10,6))\n",
    "#plt.style.use('ggplot')\n",
    "plt.title(\"Opening and closing price of CSI500\")\n",
    "plt.plot(CSI500['Date'], CSI500['Open'], label='Open price')\n",
    "plt.plot(CSI500['Date'], CSI500['Close'], label='Close price')\n",
    "plt.legend(loc='upper left')\n",
    "plt.show()"
   ]
  },
  {
   "cell_type": "code",
   "execution_count": 52,
   "metadata": {},
   "outputs": [
    {
     "data": {
      "text/plain": [
       "Text(0.5, 1.0, 'CSI500 Return_rolling_var_Mink')"
      ]
     },
     "execution_count": 52,
     "metadata": {},
     "output_type": "execute_result"
    },
    {
     "data": {
      "image/png": "[encoded data removed]",
      "text/plain": [
       "<Figure size 720x288 with 1 Axes>"
      ]
     },
     "metadata": {
      "needs_background": "light"
     },
     "output_type": "display_data"
    }
   ],
   "source": [
    "# Return \n",
    "plt.figure(figsize = (10,4))\n",
    "plt.plot(CSI500.Date,CSI500['Return'].rolling(20).std())\n",
    "plt.title('CSI500 Return_rolling_var_Mink')"
   ]
  },
  {
   "cell_type": "code",
   "execution_count": 85,
   "metadata": {
    "scrolled": true
   },
   "outputs": [
    {
     "data": {
      "text/plain": [
       "Text(0.5, 1.0, 'CSI500 Return_rolling_var_Mink(Training)')"
      ]
     },
     "execution_count": 85,
     "metadata": {},
     "output_type": "execute_result"
    },
    {
     "data": {
      "image/png": "[encoded data removed]",
      "text/plain": [
       "<Figure size 720x288 with 1 Axes>"
      ]
     },
     "metadata": {
      "needs_background": "light"
     },
     "output_type": "display_data"
    }
   ],
   "source": [
    "# Return \n",
    "plt.figure(figsize = (10,4))\n",
    "plt.plot(CSI500_train.Date,CSI500_train['Return'].rolling(20).std())\n",
    "plt.title('CSI500 Return_rolling_var_Mink(Training)')"
   ]
  },
  {
   "cell_type": "code",
   "execution_count": 72,
   "metadata": {},
   "outputs": [
    {
     "data": {
      "text/plain": [
       "Text(0.5, 1.0, 'CSI500 Return_rolling_var_Mink During Month')"
      ]
     },
     "execution_count": 72,
     "metadata": {},
     "output_type": "execute_result"
    },
    {
     "data": {
      "image/png": "[encoded data removed]",
      "text/plain": [
       "<Figure size 720x288 with 1 Axes>"
      ]
     },
     "metadata": {
      "needs_background": "light"
     },
     "output_type": "display_data"
    }
   ],
   "source": [
    "# Return (Month)\n",
    "plt.figure(figsize = (10,4))\n",
    "plt.scatter(CSI500.Month,CSI500['Return'].rolling(20).std())\n",
    "plt.title('CSI500 Return_rolling_var_Mink During Month')"
   ]
  },
  {
   "cell_type": "code",
   "execution_count": 89,
   "metadata": {},
   "outputs": [
    {
     "data": {
      "text/plain": [
       "Text(0.5, 1.0, 'CSI500 Return_rolling_var_Mink During Month (Training)')"
      ]
     },
     "execution_count": 89,
     "metadata": {},
     "output_type": "execute_result"
    },
    {
     "data": {
      "image/png": "[encoded data removed]",
      "text/plain": [
       "<Figure size 720x288 with 1 Axes>"
      ]
     },
     "metadata": {
      "needs_background": "light"
     },
     "output_type": "display_data"
    }
   ],
   "source": [
    "# Return (Month)\n",
    "plt.figure(figsize = (10,4))\n",
    "plt.scatter(CSI500_train.Month,CSI500_train['Return'].rolling(20).std())\n",
    "plt.title('CSI500 Return_rolling_var_Mink During Month (Training)')"
   ]
  },
  {
   "cell_type": "code",
   "execution_count": 76,
   "metadata": {},
   "outputs": [
    {
     "data": {
      "text/plain": [
       "Text(0.5, 1.0, 'CSI500 Return_rolling_var_Mink During Week_Day')"
      ]
     },
     "execution_count": 76,
     "metadata": {},
     "output_type": "execute_result"
    },
    {
     "data": {
      "image/png": "[encoded data removed]",
      "text/plain": [
       "<Figure size 720x288 with 1 Axes>"
      ]
     },
     "metadata": {
      "needs_background": "light"
     },
     "output_type": "display_data"
    }
   ],
   "source": [
    "# Return (Week_Day)\n",
    "plt.figure(figsize = (10,4))\n",
    "plt.scatter(CSI500.Week_day,CSI500['Return'].rolling(20).std())\n",
    "plt.title('CSI500 Return_rolling_var_Mink During Week_Day')"
   ]
  },
  {
   "cell_type": "code",
   "execution_count": 88,
   "metadata": {
    "scrolled": true
   },
   "outputs": [
    {
     "data": {
      "text/plain": [
       "Text(0.5, 1.0, 'CSI500 Return_rolling_var_Mink During Week_Day (Training)')"
      ]
     },
     "execution_count": 88,
     "metadata": {},
     "output_type": "execute_result"
    },
    {
     "data": {
      "image/png": "[encoded data removed]",
      "text/plain": [
       "<Figure size 720x288 with 1 Axes>"
      ]
     },
     "metadata": {
      "needs_background": "light"
     },
     "output_type": "display_data"
    }
   ],
   "source": [
    "# Return (Week_Day)\n",
    "plt.figure(figsize = (10,4))\n",
    "plt.scatter(CSI500_train.Week_day,CSI500_train['Return'].rolling(20).std())\n",
    "plt.title('CSI500 Return_rolling_var_Mink During Week_Day (Training)')"
   ]
  },
  {
   "cell_type": "code",
   "execution_count": 32,
   "metadata": {},
   "outputs": [
    {
     "data": {
      "text/plain": [
       "Text(0.5, 1.0, 'CSI500 Return_rolling_var_Mink During day')"
      ]
     },
     "execution_count": 32,
     "metadata": {},
     "output_type": "execute_result"
    },
    {
     "data": {
      "image/png": "[encoded data removed]",
      "text/plain": [
       "<Figure size 720x288 with 1 Axes>"
      ]
     },
     "metadata": {
      "needs_background": "light"
     },
     "output_type": "display_data"
    }
   ],
   "source": [
    "# Return (Hour)\n",
    "plt.figure(figsize = (10,4))\n",
    "plt.scatter(CSI500.Hour,CSI500['Return'].rolling(20).std())\n",
    "plt.title('CSI500 Return_rolling_var_Mink During day')"
   ]
  },
  {
   "cell_type": "code",
   "execution_count": 87,
   "metadata": {},
   "outputs": [
    {
     "data": {
      "text/plain": [
       "Text(0.5, 1.0, 'CSI500 Return_rolling_var_Mink During day(training)')"
      ]
     },
     "execution_count": 87,
     "metadata": {},
     "output_type": "execute_result"
    },
    {
     "data": {
      "image/png": "[encoded data removed]",
      "text/plain": [
       "<Figure size 720x288 with 1 Axes>"
      ]
     },
     "metadata": {
      "needs_background": "light"
     },
     "output_type": "display_data"
    }
   ],
   "source": [
    "# Return (Hour)\n",
    "plt.figure(figsize = (10,4))\n",
    "plt.scatter(CSI500_train.Hour,CSI500_train['Return'].rolling(20).std())\n",
    "plt.title('CSI500 Return_rolling_var_Mink During day(training)')"
   ]
  },
  {
   "cell_type": "code",
   "execution_count": 50,
   "metadata": {},
   "outputs": [
    {
     "data": {
      "text/plain": [
       "Text(0.5, 1.0, 'CSI500 P_Return_rolling_var_Mink')"
      ]
     },
     "execution_count": 50,
     "metadata": {},
     "output_type": "execute_result"
    },
    {
     "data": {
      "image/png": "[encoded data removed]",
      "text/plain": [
       "<Figure size 720x288 with 1 Axes>"
      ]
     },
     "metadata": {
      "needs_background": "light"
     },
     "output_type": "display_data"
    }
   ],
   "source": [
    "# Return \n",
    "plt.figure(figsize = (10,4))\n",
    "plt.plot(CSI500.Date,CSI500['P_Return'].rolling(20).std())\n",
    "plt.title('CSI500 P_Return_rolling_var_Mink')"
   ]
  },
  {
   "cell_type": "code",
   "execution_count": 86,
   "metadata": {
    "scrolled": true
   },
   "outputs": [
    {
     "data": {
      "text/plain": [
       "Text(0.5, 1.0, 'CSI500 P_Return_rolling_var_Mink(training)')"
      ]
     },
     "execution_count": 86,
     "metadata": {},
     "output_type": "execute_result"
    },
    {
     "data": {
      "image/png": "[encoded data removed]",
      "text/plain": [
       "<Figure size 720x288 with 1 Axes>"
      ]
     },
     "metadata": {
      "needs_background": "light"
     },
     "output_type": "display_data"
    }
   ],
   "source": [
    "# Return \n",
    "plt.figure(figsize = (10,4))\n",
    "plt.plot(CSI500_train.Date,CSI500_train['P_Return'].rolling(20).std())\n",
    "plt.title('CSI500 P_Return_rolling_var_Mink(training)')"
   ]
  },
  {
   "cell_type": "markdown",
   "metadata": {},
   "source": [
    "### 順逆勢分析"
   ]
  },
  {
   "cell_type": "code",
   "execution_count": 15,
   "metadata": {},
   "outputs": [
    {
     "data": {
      "image/png": "[encoded data removed]",
      "text/plain": [
       "<Figure size 504x288 with 1 Axes>"
      ]
     },
     "metadata": {
      "needs_background": "light"
     },
     "output_type": "display_data"
    }
   ],
   "source": [
    "# Rotate\n",
    "CSI500['Rotate'] = CSI500['Rotate'].replace([np.inf, -np.inf], np.nan)\n",
    "CSI500['Rotate'].dropna(how='any',inplace=True)\n",
    "# KDE of Rotate (Min k)\n",
    "Year_sorted = np.sort(CSI500.Year.unique())\n",
    "plt.figure(figsize=(7,4))\n",
    "for i in range(len(Year_sorted)):\n",
    "    sns.kdeplot(CSI500.loc[(CSI500['Year'] == Year_sorted[i]),'Rotate'],label = str(Year_sorted[i]),kernel='gau')\n",
    "plt.title('KDE of Rotate (Min k)')\n",
    "plt.legend()\n",
    "plt.show()"
   ]
  },
  {
   "cell_type": "code",
   "execution_count": 11,
   "metadata": {
    "scrolled": true
   },
   "outputs": [
    {
     "data": {
      "text/plain": [
       "<matplotlib.text.Text at 0x1de3088ba90>"
      ]
     },
     "execution_count": 11,
     "metadata": {},
     "output_type": "execute_result"
    },
    {
     "data": {
      "image/png": "[encoded data removed]",
      "text/plain": [
       "<matplotlib.figure.Figure at 0x1de2e32af60>"
      ]
     },
     "metadata": {},
     "output_type": "display_data"
    }
   ],
   "source": [
    "# 連續 K棒往上\n",
    "sns.set(rc={'figure.figsize':(5,4)})\n",
    "sns.distplot(Go_up_num(CSI500['Up_down'])).set_title(\"Go_up_num_Mink\")"
   ]
  },
  {
   "cell_type": "code",
   "execution_count": 12,
   "metadata": {
    "scrolled": true
   },
   "outputs": [
    {
     "data": {
      "text/plain": [
       "<matplotlib.text.Text at 0x1de303cb2b0>"
      ]
     },
     "execution_count": 12,
     "metadata": {},
     "output_type": "execute_result"
    },
    {
     "data": {
      "image/png": "[encoded data removed]",
      "text/plain": [
       "<matplotlib.figure.Figure at 0x1de3098b4e0>"
      ]
     },
     "metadata": {},
     "output_type": "display_data"
    }
   ],
   "source": [
    "# 連續 K棒往下\n",
    "sns.set(rc={'figure.figsize':(5,4)})\n",
    "sns.distplot(Go_down_num(CSI500['Up_down'])).set_title(\"Go_down_num_Mink\")"
   ]
  },
  {
   "cell_type": "markdown",
   "metadata": {},
   "source": [
    "### 5分k"
   ]
  },
  {
   "cell_type": "code",
   "execution_count": 92,
   "metadata": {},
   "outputs": [
    {
     "data": {
      "text/html": [
       "<div>\n",
       "<style scoped>\n",
       "    .dataframe tbody tr th:only-of-type {\n",
       "        vertical-align: middle;\n",
       "    }\n",
       "\n",
       "    .dataframe tbody tr th {\n",
       "        vertical-align: top;\n",
       "    }\n",
       "\n",
       "    .dataframe thead th {\n",
       "        text-align: right;\n",
       "    }\n",
       "</style>\n",
       "<table border=\"1\" class=\"dataframe\">\n",
       "  <thead>\n",
       "    <tr style=\"text-align: right;\">\n",
       "      <th></th>\n",
       "      <th>Date_Time</th>\n",
       "      <th>Date</th>\n",
       "      <th>Time</th>\n",
       "      <th>Open</th>\n",
       "      <th>High</th>\n",
       "      <th>Low</th>\n",
       "      <th>Close</th>\n",
       "      <th>TotalVolume</th>\n",
       "      <th>Year</th>\n",
       "      <th>Month</th>\n",
       "      <th>...</th>\n",
       "      <th>close_5t</th>\n",
       "      <th>high_5t</th>\n",
       "      <th>low_5t</th>\n",
       "      <th>volume_5t</th>\n",
       "      <th>range_5t</th>\n",
       "      <th>diff_5t</th>\n",
       "      <th>rotate_5t</th>\n",
       "      <th>up_down_5t</th>\n",
       "      <th>return_5t</th>\n",
       "      <th>P_return_5t</th>\n",
       "    </tr>\n",
       "  </thead>\n",
       "  <tbody>\n",
       "    <tr>\n",
       "      <th>0</th>\n",
       "      <td>2016-01-04 09:30:00</td>\n",
       "      <td>2016-01-04</td>\n",
       "      <td>09:34:00</td>\n",
       "      <td>7346.6</td>\n",
       "      <td>7349.4</td>\n",
       "      <td>7338.0</td>\n",
       "      <td>7338.0</td>\n",
       "      <td>66.0</td>\n",
       "      <td>2016.0</td>\n",
       "      <td>1.0</td>\n",
       "      <td>...</td>\n",
       "      <td>7338.0</td>\n",
       "      <td>7358.6</td>\n",
       "      <td>7321.2</td>\n",
       "      <td>501</td>\n",
       "      <td>37.4</td>\n",
       "      <td>-12.0</td>\n",
       "      <td>-3.116667</td>\n",
       "      <td>-1</td>\n",
       "      <td>-0.163265</td>\n",
       "      <td>0.510845</td>\n",
       "    </tr>\n",
       "    <tr>\n",
       "      <th>1</th>\n",
       "      <td>2016-01-04 09:35:00</td>\n",
       "      <td>2016-01-04</td>\n",
       "      <td>09:39:00</td>\n",
       "      <td>7334.2</td>\n",
       "      <td>7339.6</td>\n",
       "      <td>7327.6</td>\n",
       "      <td>7330.8</td>\n",
       "      <td>63.0</td>\n",
       "      <td>2016.0</td>\n",
       "      <td>1.0</td>\n",
       "      <td>...</td>\n",
       "      <td>7330.8</td>\n",
       "      <td>7364.8</td>\n",
       "      <td>7327.6</td>\n",
       "      <td>289</td>\n",
       "      <td>37.2</td>\n",
       "      <td>-13.2</td>\n",
       "      <td>-2.818182</td>\n",
       "      <td>-1</td>\n",
       "      <td>-0.179739</td>\n",
       "      <td>0.507670</td>\n",
       "    </tr>\n",
       "    <tr>\n",
       "      <th>2</th>\n",
       "      <td>2016-01-04 09:40:00</td>\n",
       "      <td>2016-01-04</td>\n",
       "      <td>09:44:00</td>\n",
       "      <td>7276.0</td>\n",
       "      <td>7288.8</td>\n",
       "      <td>7276.0</td>\n",
       "      <td>7287.4</td>\n",
       "      <td>58.0</td>\n",
       "      <td>2016.0</td>\n",
       "      <td>1.0</td>\n",
       "      <td>...</td>\n",
       "      <td>7287.4</td>\n",
       "      <td>7333.2</td>\n",
       "      <td>7257.8</td>\n",
       "      <td>434</td>\n",
       "      <td>75.4</td>\n",
       "      <td>-45.0</td>\n",
       "      <td>-1.675556</td>\n",
       "      <td>-1</td>\n",
       "      <td>-0.613714</td>\n",
       "      <td>1.038882</td>\n",
       "    </tr>\n",
       "    <tr>\n",
       "      <th>3</th>\n",
       "      <td>2016-01-04 09:45:00</td>\n",
       "      <td>2016-01-04</td>\n",
       "      <td>09:49:00</td>\n",
       "      <td>7254.0</td>\n",
       "      <td>7254.0</td>\n",
       "      <td>7239.0</td>\n",
       "      <td>7241.8</td>\n",
       "      <td>49.0</td>\n",
       "      <td>2016.0</td>\n",
       "      <td>1.0</td>\n",
       "      <td>...</td>\n",
       "      <td>7241.8</td>\n",
       "      <td>7287.2</td>\n",
       "      <td>7222.6</td>\n",
       "      <td>462</td>\n",
       "      <td>64.6</td>\n",
       "      <td>-43.2</td>\n",
       "      <td>-1.495370</td>\n",
       "      <td>-1</td>\n",
       "      <td>-0.592999</td>\n",
       "      <td>0.894415</td>\n",
       "    </tr>\n",
       "    <tr>\n",
       "      <th>4</th>\n",
       "      <td>2016-01-04 09:50:00</td>\n",
       "      <td>2016-01-04</td>\n",
       "      <td>09:54:00</td>\n",
       "      <td>7246.6</td>\n",
       "      <td>7258.6</td>\n",
       "      <td>7245.8</td>\n",
       "      <td>7258.6</td>\n",
       "      <td>47.0</td>\n",
       "      <td>2016.0</td>\n",
       "      <td>1.0</td>\n",
       "      <td>...</td>\n",
       "      <td>7258.6</td>\n",
       "      <td>7258.6</td>\n",
       "      <td>7231.8</td>\n",
       "      <td>218</td>\n",
       "      <td>26.8</td>\n",
       "      <td>16.8</td>\n",
       "      <td>1.595238</td>\n",
       "      <td>1</td>\n",
       "      <td>0.231987</td>\n",
       "      <td>0.370585</td>\n",
       "    </tr>\n",
       "  </tbody>\n",
       "</table>\n",
       "<p>5 rows × 30 columns</p>\n",
       "</div>"
      ],
      "text/plain": [
       "            Date_Time       Date      Time    Open    High     Low   Close  \\\n",
       "0 2016-01-04 09:30:00 2016-01-04  09:34:00  7346.6  7349.4  7338.0  7338.0   \n",
       "1 2016-01-04 09:35:00 2016-01-04  09:39:00  7334.2  7339.6  7327.6  7330.8   \n",
       "2 2016-01-04 09:40:00 2016-01-04  09:44:00  7276.0  7288.8  7276.0  7287.4   \n",
       "3 2016-01-04 09:45:00 2016-01-04  09:49:00  7254.0  7254.0  7239.0  7241.8   \n",
       "4 2016-01-04 09:50:00 2016-01-04  09:54:00  7246.6  7258.6  7245.8  7258.6   \n",
       "\n",
       "   TotalVolume    Year  Month  ...  close_5t  high_5t  low_5t  volume_5t  \\\n",
       "0         66.0  2016.0    1.0  ...    7338.0   7358.6  7321.2        501   \n",
       "1         63.0  2016.0    1.0  ...    7330.8   7364.8  7327.6        289   \n",
       "2         58.0  2016.0    1.0  ...    7287.4   7333.2  7257.8        434   \n",
       "3         49.0  2016.0    1.0  ...    7241.8   7287.2  7222.6        462   \n",
       "4         47.0  2016.0    1.0  ...    7258.6   7258.6  7231.8        218   \n",
       "\n",
       "   range_5t  diff_5t  rotate_5t  up_down_5t  return_5t  P_return_5t  \n",
       "0      37.4    -12.0  -3.116667          -1  -0.163265     0.510845  \n",
       "1      37.2    -13.2  -2.818182          -1  -0.179739     0.507670  \n",
       "2      75.4    -45.0  -1.675556          -1  -0.613714     1.038882  \n",
       "3      64.6    -43.2  -1.495370          -1  -0.592999     0.894415  \n",
       "4      26.8     16.8   1.595238           1   0.231987     0.370585  \n",
       "\n",
       "[5 rows x 30 columns]"
      ]
     },
     "execution_count": 92,
     "metadata": {},
     "output_type": "execute_result"
    }
   ],
   "source": [
    "# from min k to 5 min k (Training)\n",
    "stock = CSI500_train.set_index('Date_Time')\n",
    "period_type = '5T'\n",
    "period_stock_data = stock.resample(period_type,how='last')\n",
    "period_stock_data['open_5t'] = stock['Open'].resample(period_type,how='first')\n",
    "period_stock_data['close_5t'] = stock['Close'].resample(period_type,how='last')\n",
    "period_stock_data['high_5t'] = stock['High'].resample(period_type,how='max')\n",
    "period_stock_data['low_5t'] = stock['Low'].resample(period_type,how='min')\n",
    "period_stock_data['volume_5t'] = stock['TotalVolume'].resample(period_type,how='sum')\n",
    "period_stock_data['range_5t'] = period_stock_data['high_5t'] - period_stock_data['low_5t']\n",
    "period_stock_data['diff_5t'] = period_stock_data['close_5t'] - period_stock_data['open_5t']\n",
    "period_stock_data['rotate_5t'] = abs(period_stock_data['range_5t']) / period_stock_data['diff_5t']\n",
    "period_stock_data['up_down_5t'] = period_stock_data['diff_5t'].map(lambda x: 1 if x >0 else -1)\n",
    "period_stock_data['return_5t'] = ((period_stock_data['close_5t'] -  \\\n",
    "                                     period_stock_data['open_5t']) / period_stock_data['open_5t']) *100\n",
    "period_stock_data['P_return_5t'] = ((period_stock_data['high_5t'] -  \\\n",
    "                                     period_stock_data['low_5t']) / period_stock_data['low_5t']) *100\n",
    "period_stock_data.dropna(how='any',inplace=True)\n",
    "period_stock_data.reset_index(inplace=True)\n",
    "period_stock_data.head()"
   ]
  },
  {
   "cell_type": "code",
   "execution_count": 93,
   "metadata": {},
   "outputs": [
    {
     "data": {
      "text/plain": [
       "Text(0.5, 1.0, 'CSI500 Return_rolling_var_5Mink')"
      ]
     },
     "execution_count": 93,
     "metadata": {},
     "output_type": "execute_result"
    },
    {
     "data": {
      "image/png": "[encoded data removed]",
      "text/plain": [
       "<Figure size 720x288 with 1 Axes>"
      ]
     },
     "metadata": {
      "needs_background": "light"
     },
     "output_type": "display_data"
    }
   ],
   "source": [
    "# Return \n",
    "plt.figure(figsize = (10,4))\n",
    "plt.plot(period_stock_data['Date_Time'],period_stock_data['return_5t'].rolling(20).std())\n",
    "plt.title('CSI500 Return_rolling_var_5Mink')"
   ]
  },
  {
   "cell_type": "code",
   "execution_count": 94,
   "metadata": {
    "scrolled": true
   },
   "outputs": [
    {
     "data": {
      "text/plain": [
       "Text(0.5, 1.0, 'CSI500 P_Return_rolling_var_5Mink')"
      ]
     },
     "execution_count": 94,
     "metadata": {},
     "output_type": "execute_result"
    },
    {
     "data": {
      "image/png": "[encoded data removed]",
      "text/plain": [
       "<Figure size 720x288 with 1 Axes>"
      ]
     },
     "metadata": {
      "needs_background": "light"
     },
     "output_type": "display_data"
    }
   ],
   "source": [
    "# Return \n",
    "plt.figure(figsize = (10,4))\n",
    "plt.plot(period_stock_data['Date_Time'],period_stock_data['P_return_5t'].rolling(20).std())\n",
    "plt.title('CSI500 P_Return_rolling_var_5Mink')"
   ]
  },
  {
   "cell_type": "markdown",
   "metadata": {},
   "source": [
    "### 15分k"
   ]
  },
  {
   "cell_type": "code",
   "execution_count": 95,
   "metadata": {},
   "outputs": [
    {
     "data": {
      "text/html": [
       "<div>\n",
       "<style scoped>\n",
       "    .dataframe tbody tr th:only-of-type {\n",
       "        vertical-align: middle;\n",
       "    }\n",
       "\n",
       "    .dataframe tbody tr th {\n",
       "        vertical-align: top;\n",
       "    }\n",
       "\n",
       "    .dataframe thead th {\n",
       "        text-align: right;\n",
       "    }\n",
       "</style>\n",
       "<table border=\"1\" class=\"dataframe\">\n",
       "  <thead>\n",
       "    <tr style=\"text-align: right;\">\n",
       "      <th></th>\n",
       "      <th>Date_Time</th>\n",
       "      <th>Date</th>\n",
       "      <th>Time</th>\n",
       "      <th>Open</th>\n",
       "      <th>High</th>\n",
       "      <th>Low</th>\n",
       "      <th>Close</th>\n",
       "      <th>TotalVolume</th>\n",
       "      <th>Year</th>\n",
       "      <th>Month</th>\n",
       "      <th>...</th>\n",
       "      <th>close_15T</th>\n",
       "      <th>high_15T</th>\n",
       "      <th>low_15T</th>\n",
       "      <th>volume_15T</th>\n",
       "      <th>range_15T</th>\n",
       "      <th>diff_15T</th>\n",
       "      <th>rotate_15T</th>\n",
       "      <th>up_down_15T</th>\n",
       "      <th>return_15T</th>\n",
       "      <th>P_return_15T</th>\n",
       "    </tr>\n",
       "  </thead>\n",
       "  <tbody>\n",
       "    <tr>\n",
       "      <th>0</th>\n",
       "      <td>2016-01-04 09:30:00</td>\n",
       "      <td>2016-01-04</td>\n",
       "      <td>09:44:00</td>\n",
       "      <td>7276.0</td>\n",
       "      <td>7288.8</td>\n",
       "      <td>7276.0</td>\n",
       "      <td>7287.4</td>\n",
       "      <td>58.0</td>\n",
       "      <td>2016.0</td>\n",
       "      <td>1.0</td>\n",
       "      <td>...</td>\n",
       "      <td>7287.4</td>\n",
       "      <td>7364.8</td>\n",
       "      <td>7257.8</td>\n",
       "      <td>1224</td>\n",
       "      <td>107.0</td>\n",
       "      <td>-62.6</td>\n",
       "      <td>-1.709265</td>\n",
       "      <td>-1</td>\n",
       "      <td>-0.851701</td>\n",
       "      <td>1.474276</td>\n",
       "    </tr>\n",
       "    <tr>\n",
       "      <th>1</th>\n",
       "      <td>2016-01-04 09:45:00</td>\n",
       "      <td>2016-01-04</td>\n",
       "      <td>09:59:00</td>\n",
       "      <td>7256.0</td>\n",
       "      <td>7265.2</td>\n",
       "      <td>7253.8</td>\n",
       "      <td>7260.0</td>\n",
       "      <td>35.0</td>\n",
       "      <td>2016.0</td>\n",
       "      <td>1.0</td>\n",
       "      <td>...</td>\n",
       "      <td>7260.0</td>\n",
       "      <td>7287.2</td>\n",
       "      <td>7222.6</td>\n",
       "      <td>881</td>\n",
       "      <td>64.6</td>\n",
       "      <td>-25.0</td>\n",
       "      <td>-2.584000</td>\n",
       "      <td>-1</td>\n",
       "      <td>-0.343171</td>\n",
       "      <td>0.894415</td>\n",
       "    </tr>\n",
       "    <tr>\n",
       "      <th>2</th>\n",
       "      <td>2016-01-04 10:00:00</td>\n",
       "      <td>2016-01-04</td>\n",
       "      <td>10:14:00</td>\n",
       "      <td>7063.2</td>\n",
       "      <td>7063.2</td>\n",
       "      <td>7029.2</td>\n",
       "      <td>7029.2</td>\n",
       "      <td>88.0</td>\n",
       "      <td>2016.0</td>\n",
       "      <td>1.0</td>\n",
       "      <td>...</td>\n",
       "      <td>7029.2</td>\n",
       "      <td>7258.0</td>\n",
       "      <td>7029.2</td>\n",
       "      <td>1244</td>\n",
       "      <td>228.8</td>\n",
       "      <td>-228.8</td>\n",
       "      <td>-1.000000</td>\n",
       "      <td>-1</td>\n",
       "      <td>-3.152384</td>\n",
       "      <td>3.254993</td>\n",
       "    </tr>\n",
       "    <tr>\n",
       "      <th>3</th>\n",
       "      <td>2016-01-04 10:15:00</td>\n",
       "      <td>2016-01-04</td>\n",
       "      <td>10:29:00</td>\n",
       "      <td>7050.0</td>\n",
       "      <td>7058.0</td>\n",
       "      <td>7050.0</td>\n",
       "      <td>7057.8</td>\n",
       "      <td>34.0</td>\n",
       "      <td>2016.0</td>\n",
       "      <td>1.0</td>\n",
       "      <td>...</td>\n",
       "      <td>7057.8</td>\n",
       "      <td>7070.2</td>\n",
       "      <td>7029.2</td>\n",
       "      <td>677</td>\n",
       "      <td>41.0</td>\n",
       "      <td>28.6</td>\n",
       "      <td>1.433566</td>\n",
       "      <td>1</td>\n",
       "      <td>0.406874</td>\n",
       "      <td>0.583281</td>\n",
       "    </tr>\n",
       "    <tr>\n",
       "      <th>4</th>\n",
       "      <td>2016-01-04 10:30:00</td>\n",
       "      <td>2016-01-04</td>\n",
       "      <td>10:44:00</td>\n",
       "      <td>7067.0</td>\n",
       "      <td>7078.2</td>\n",
       "      <td>7066.2</td>\n",
       "      <td>7069.2</td>\n",
       "      <td>15.0</td>\n",
       "      <td>2016.0</td>\n",
       "      <td>1.0</td>\n",
       "      <td>...</td>\n",
       "      <td>7069.2</td>\n",
       "      <td>7117.0</td>\n",
       "      <td>7035.0</td>\n",
       "      <td>624</td>\n",
       "      <td>82.0</td>\n",
       "      <td>11.2</td>\n",
       "      <td>7.321429</td>\n",
       "      <td>1</td>\n",
       "      <td>0.158685</td>\n",
       "      <td>1.165601</td>\n",
       "    </tr>\n",
       "  </tbody>\n",
       "</table>\n",
       "<p>5 rows × 30 columns</p>\n",
       "</div>"
      ],
      "text/plain": [
       "            Date_Time       Date      Time    Open    High     Low   Close  \\\n",
       "0 2016-01-04 09:30:00 2016-01-04  09:44:00  7276.0  7288.8  7276.0  7287.4   \n",
       "1 2016-01-04 09:45:00 2016-01-04  09:59:00  7256.0  7265.2  7253.8  7260.0   \n",
       "2 2016-01-04 10:00:00 2016-01-04  10:14:00  7063.2  7063.2  7029.2  7029.2   \n",
       "3 2016-01-04 10:15:00 2016-01-04  10:29:00  7050.0  7058.0  7050.0  7057.8   \n",
       "4 2016-01-04 10:30:00 2016-01-04  10:44:00  7067.0  7078.2  7066.2  7069.2   \n",
       "\n",
       "   TotalVolume    Year  Month  ...  close_15T  high_15T  low_15T  volume_15T  \\\n",
       "0         58.0  2016.0    1.0  ...     7287.4    7364.8   7257.8        1224   \n",
       "1         35.0  2016.0    1.0  ...     7260.0    7287.2   7222.6         881   \n",
       "2         88.0  2016.0    1.0  ...     7029.2    7258.0   7029.2        1244   \n",
       "3         34.0  2016.0    1.0  ...     7057.8    7070.2   7029.2         677   \n",
       "4         15.0  2016.0    1.0  ...     7069.2    7117.0   7035.0         624   \n",
       "\n",
       "   range_15T  diff_15T  rotate_15T  up_down_15T  return_15T  P_return_15T  \n",
       "0      107.0     -62.6   -1.709265           -1   -0.851701      1.474276  \n",
       "1       64.6     -25.0   -2.584000           -1   -0.343171      0.894415  \n",
       "2      228.8    -228.8   -1.000000           -1   -3.152384      3.254993  \n",
       "3       41.0      28.6    1.433566            1    0.406874      0.583281  \n",
       "4       82.0      11.2    7.321429            1    0.158685      1.165601  \n",
       "\n",
       "[5 rows x 30 columns]"
      ]
     },
     "execution_count": 95,
     "metadata": {},
     "output_type": "execute_result"
    }
   ],
   "source": [
    "# from min k to 15 min k (Training)\n",
    "stock = CSI500_train.set_index('Date_Time')\n",
    "period_type = '15T'\n",
    "period_stock_data = stock.resample(period_type,how='last')\n",
    "period_stock_data['open_%s'%(period_type)] = stock['Open'].resample(period_type,how='first')\n",
    "period_stock_data['close_%s'%(period_type)] = stock['Close'].resample(period_type,how='last')\n",
    "period_stock_data['high_%s'%(period_type)] = stock['High'].resample(period_type,how='max')\n",
    "period_stock_data['low_%s'%(period_type)] = stock['Low'].resample(period_type,how='min')\n",
    "period_stock_data['volume_%s'%(period_type)] = stock['TotalVolume'].resample(period_type,how='sum')\n",
    "period_stock_data['range_%s'%(period_type)] = period_stock_data['high_%s'%(period_type)] - period_stock_data['low_%s'%(period_type)]\n",
    "period_stock_data['diff_%s'%(period_type)] = period_stock_data['close_%s'%(period_type)] - period_stock_data['open_%s'%(period_type)]\n",
    "period_stock_data['rotate_%s'%(period_type)] = abs(period_stock_data['range_%s'%(period_type)]) / period_stock_data['diff_%s'%(period_type)]\n",
    "period_stock_data['up_down_%s'%(period_type)] = period_stock_data['diff_%s'%(period_type)].map(lambda x: 1 if x >0 else -1)\n",
    "period_stock_data['return_%s'%(period_type)] = ((period_stock_data['close_%s'%(period_type)] -  \\\n",
    "                                     period_stock_data['open_%s'%(period_type)]) / period_stock_data['open_%s'%(period_type)]) *100\n",
    "period_stock_data['P_return_%s'%(period_type)] = ((period_stock_data['high_%s'%(period_type)] -  \\\n",
    "                                     period_stock_data['low_%s'%(period_type)]) / period_stock_data['low_%s'%(period_type)]) *100\n",
    "period_stock_data.dropna(how='any',inplace=True)\n",
    "period_stock_data.reset_index(inplace=True)\n",
    "period_stock_data.head()"
   ]
  },
  {
   "cell_type": "code",
   "execution_count": 96,
   "metadata": {},
   "outputs": [
    {
     "data": {
      "text/plain": [
       "Text(0.5, 1.0, 'CSI500 Return_rolling_var_15Mink')"
      ]
     },
     "execution_count": 96,
     "metadata": {},
     "output_type": "execute_result"
    },
    {
     "data": {
      "image/png": "[encoded data removed]",
      "text/plain": [
       "<Figure size 720x288 with 1 Axes>"
      ]
     },
     "metadata": {
      "needs_background": "light"
     },
     "output_type": "display_data"
    }
   ],
   "source": [
    "# Return \n",
    "plt.figure(figsize = (10,4))\n",
    "plt.plot(period_stock_data['Date_Time'],period_stock_data['return_15T'].rolling(20).std())\n",
    "plt.title('CSI500 Return_rolling_var_15Mink')"
   ]
  },
  {
   "cell_type": "code",
   "execution_count": 97,
   "metadata": {},
   "outputs": [
    {
     "data": {
      "text/plain": [
       "Text(0.5, 1.0, 'CSI500 P_Return_rolling_var_15Mink')"
      ]
     },
     "execution_count": 97,
     "metadata": {},
     "output_type": "execute_result"
    },
    {
     "data": {
      "image/png": "[encoded data removed]",
      "text/plain": [
       "<Figure size 720x288 with 1 Axes>"
      ]
     },
     "metadata": {
      "needs_background": "light"
     },
     "output_type": "display_data"
    }
   ],
   "source": [
    "# Return \n",
    "plt.figure(figsize = (10,4))\n",
    "plt.plot(period_stock_data['Date_Time'],period_stock_data['P_return_15T'].rolling(20).std())\n",
    "plt.title('CSI500 P_Return_rolling_var_15Mink')"
   ]
  },
  {
   "cell_type": "markdown",
   "metadata": {},
   "source": [
    "### 30分k"
   ]
  },
  {
   "cell_type": "code",
   "execution_count": 98,
   "metadata": {},
   "outputs": [
    {
     "data": {
      "text/html": [
       "<div>\n",
       "<style scoped>\n",
       "    .dataframe tbody tr th:only-of-type {\n",
       "        vertical-align: middle;\n",
       "    }\n",
       "\n",
       "    .dataframe tbody tr th {\n",
       "        vertical-align: top;\n",
       "    }\n",
       "\n",
       "    .dataframe thead th {\n",
       "        text-align: right;\n",
       "    }\n",
       "</style>\n",
       "<table border=\"1\" class=\"dataframe\">\n",
       "  <thead>\n",
       "    <tr style=\"text-align: right;\">\n",
       "      <th></th>\n",
       "      <th>Date_Time</th>\n",
       "      <th>Date</th>\n",
       "      <th>Time</th>\n",
       "      <th>Open</th>\n",
       "      <th>High</th>\n",
       "      <th>Low</th>\n",
       "      <th>Close</th>\n",
       "      <th>TotalVolume</th>\n",
       "      <th>Year</th>\n",
       "      <th>Month</th>\n",
       "      <th>...</th>\n",
       "      <th>close_30T</th>\n",
       "      <th>high_30T</th>\n",
       "      <th>low_30T</th>\n",
       "      <th>volume_30T</th>\n",
       "      <th>range_30T</th>\n",
       "      <th>diff_30T</th>\n",
       "      <th>rotate_30T</th>\n",
       "      <th>up_down_30T</th>\n",
       "      <th>return_30T</th>\n",
       "      <th>P_return_30T</th>\n",
       "    </tr>\n",
       "  </thead>\n",
       "  <tbody>\n",
       "    <tr>\n",
       "      <th>0</th>\n",
       "      <td>2016-01-04 09:30:00</td>\n",
       "      <td>2016-01-04</td>\n",
       "      <td>09:59:00</td>\n",
       "      <td>7256.0</td>\n",
       "      <td>7265.2</td>\n",
       "      <td>7253.8</td>\n",
       "      <td>7260.0</td>\n",
       "      <td>35.0</td>\n",
       "      <td>2016.0</td>\n",
       "      <td>1.0</td>\n",
       "      <td>...</td>\n",
       "      <td>7260.0</td>\n",
       "      <td>7364.8</td>\n",
       "      <td>7222.6</td>\n",
       "      <td>2105</td>\n",
       "      <td>142.2</td>\n",
       "      <td>-90.0</td>\n",
       "      <td>-1.580000</td>\n",
       "      <td>-1</td>\n",
       "      <td>-1.224490</td>\n",
       "      <td>1.968820</td>\n",
       "    </tr>\n",
       "    <tr>\n",
       "      <th>1</th>\n",
       "      <td>2016-01-04 10:00:00</td>\n",
       "      <td>2016-01-04</td>\n",
       "      <td>10:29:00</td>\n",
       "      <td>7050.0</td>\n",
       "      <td>7058.0</td>\n",
       "      <td>7050.0</td>\n",
       "      <td>7057.8</td>\n",
       "      <td>34.0</td>\n",
       "      <td>2016.0</td>\n",
       "      <td>1.0</td>\n",
       "      <td>...</td>\n",
       "      <td>7057.8</td>\n",
       "      <td>7258.0</td>\n",
       "      <td>7029.2</td>\n",
       "      <td>1921</td>\n",
       "      <td>228.8</td>\n",
       "      <td>-200.2</td>\n",
       "      <td>-1.142857</td>\n",
       "      <td>-1</td>\n",
       "      <td>-2.758336</td>\n",
       "      <td>3.254993</td>\n",
       "    </tr>\n",
       "    <tr>\n",
       "      <th>2</th>\n",
       "      <td>2016-01-04 10:30:00</td>\n",
       "      <td>2016-01-04</td>\n",
       "      <td>10:59:00</td>\n",
       "      <td>7077.4</td>\n",
       "      <td>7078.0</td>\n",
       "      <td>7071.2</td>\n",
       "      <td>7075.0</td>\n",
       "      <td>14.0</td>\n",
       "      <td>2016.0</td>\n",
       "      <td>1.0</td>\n",
       "      <td>...</td>\n",
       "      <td>7075.0</td>\n",
       "      <td>7117.0</td>\n",
       "      <td>7035.0</td>\n",
       "      <td>897</td>\n",
       "      <td>82.0</td>\n",
       "      <td>17.0</td>\n",
       "      <td>4.823529</td>\n",
       "      <td>1</td>\n",
       "      <td>0.240861</td>\n",
       "      <td>1.165601</td>\n",
       "    </tr>\n",
       "    <tr>\n",
       "      <th>3</th>\n",
       "      <td>2016-01-04 11:00:00</td>\n",
       "      <td>2016-01-04</td>\n",
       "      <td>11:29:00</td>\n",
       "      <td>7029.8</td>\n",
       "      <td>7030.0</td>\n",
       "      <td>7029.6</td>\n",
       "      <td>7029.6</td>\n",
       "      <td>12.0</td>\n",
       "      <td>2016.0</td>\n",
       "      <td>1.0</td>\n",
       "      <td>...</td>\n",
       "      <td>7029.6</td>\n",
       "      <td>7084.2</td>\n",
       "      <td>7029.2</td>\n",
       "      <td>742</td>\n",
       "      <td>55.0</td>\n",
       "      <td>-48.4</td>\n",
       "      <td>-1.136364</td>\n",
       "      <td>-1</td>\n",
       "      <td>-0.683809</td>\n",
       "      <td>0.782450</td>\n",
       "    </tr>\n",
       "    <tr>\n",
       "      <th>4</th>\n",
       "      <td>2016-01-04 11:30:00</td>\n",
       "      <td>2016-01-04</td>\n",
       "      <td>11:30:00</td>\n",
       "      <td>7029.6</td>\n",
       "      <td>7031.2</td>\n",
       "      <td>7029.2</td>\n",
       "      <td>7029.2</td>\n",
       "      <td>19.0</td>\n",
       "      <td>2016.0</td>\n",
       "      <td>1.0</td>\n",
       "      <td>...</td>\n",
       "      <td>7029.2</td>\n",
       "      <td>7031.2</td>\n",
       "      <td>7029.2</td>\n",
       "      <td>19</td>\n",
       "      <td>2.0</td>\n",
       "      <td>-0.4</td>\n",
       "      <td>-5.000000</td>\n",
       "      <td>-1</td>\n",
       "      <td>-0.005690</td>\n",
       "      <td>0.028453</td>\n",
       "    </tr>\n",
       "  </tbody>\n",
       "</table>\n",
       "<p>5 rows × 30 columns</p>\n",
       "</div>"
      ],
      "text/plain": [
       "            Date_Time       Date      Time    Open    High     Low   Close  \\\n",
       "0 2016-01-04 09:30:00 2016-01-04  09:59:00  7256.0  7265.2  7253.8  7260.0   \n",
       "1 2016-01-04 10:00:00 2016-01-04  10:29:00  7050.0  7058.0  7050.0  7057.8   \n",
       "2 2016-01-04 10:30:00 2016-01-04  10:59:00  7077.4  7078.0  7071.2  7075.0   \n",
       "3 2016-01-04 11:00:00 2016-01-04  11:29:00  7029.8  7030.0  7029.6  7029.6   \n",
       "4 2016-01-04 11:30:00 2016-01-04  11:30:00  7029.6  7031.2  7029.2  7029.2   \n",
       "\n",
       "   TotalVolume    Year  Month  ...  close_30T  high_30T  low_30T  volume_30T  \\\n",
       "0         35.0  2016.0    1.0  ...     7260.0    7364.8   7222.6        2105   \n",
       "1         34.0  2016.0    1.0  ...     7057.8    7258.0   7029.2        1921   \n",
       "2         14.0  2016.0    1.0  ...     7075.0    7117.0   7035.0         897   \n",
       "3         12.0  2016.0    1.0  ...     7029.6    7084.2   7029.2         742   \n",
       "4         19.0  2016.0    1.0  ...     7029.2    7031.2   7029.2          19   \n",
       "\n",
       "   range_30T  diff_30T  rotate_30T  up_down_30T  return_30T  P_return_30T  \n",
       "0      142.2     -90.0   -1.580000           -1   -1.224490      1.968820  \n",
       "1      228.8    -200.2   -1.142857           -1   -2.758336      3.254993  \n",
       "2       82.0      17.0    4.823529            1    0.240861      1.165601  \n",
       "3       55.0     -48.4   -1.136364           -1   -0.683809      0.782450  \n",
       "4        2.0      -0.4   -5.000000           -1   -0.005690      0.028453  \n",
       "\n",
       "[5 rows x 30 columns]"
      ]
     },
     "execution_count": 98,
     "metadata": {},
     "output_type": "execute_result"
    }
   ],
   "source": [
    "# from min k to 30 min k (Training)\n",
    "stock = CSI500_train.set_index('Date_Time')\n",
    "period_type = '30T'\n",
    "period_stock_data = stock.resample(period_type,how='last')\n",
    "period_stock_data['open_%s'%(period_type)] = stock['Open'].resample(period_type,how='first')\n",
    "period_stock_data['close_%s'%(period_type)] = stock['Close'].resample(period_type,how='last')\n",
    "period_stock_data['high_%s'%(period_type)] = stock['High'].resample(period_type,how='max')\n",
    "period_stock_data['low_%s'%(period_type)] = stock['Low'].resample(period_type,how='min')\n",
    "period_stock_data['volume_%s'%(period_type)] = stock['TotalVolume'].resample(period_type,how='sum')\n",
    "period_stock_data['range_%s'%(period_type)] = period_stock_data['high_%s'%(period_type)] - period_stock_data['low_%s'%(period_type)]\n",
    "period_stock_data['diff_%s'%(period_type)] = period_stock_data['close_%s'%(period_type)] - period_stock_data['open_%s'%(period_type)]\n",
    "period_stock_data['rotate_%s'%(period_type)] = abs(period_stock_data['range_%s'%(period_type)]) / period_stock_data['diff_%s'%(period_type)]\n",
    "period_stock_data['up_down_%s'%(period_type)] = period_stock_data['diff_%s'%(period_type)].map(lambda x: 1 if x >0 else -1)\n",
    "period_stock_data['return_%s'%(period_type)] = ((period_stock_data['close_%s'%(period_type)] -  \\\n",
    "                                     period_stock_data['open_%s'%(period_type)]) / period_stock_data['open_%s'%(period_type)]) *100\n",
    "period_stock_data['P_return_%s'%(period_type)] = ((period_stock_data['high_%s'%(period_type)] -  \\\n",
    "                                     period_stock_data['low_%s'%(period_type)]) / period_stock_data['low_%s'%(period_type)]) *100\n",
    "period_stock_data.dropna(how='any',inplace=True)\n",
    "period_stock_data.reset_index(inplace=True)\n",
    "period_stock_data.head()"
   ]
  },
  {
   "cell_type": "code",
   "execution_count": 99,
   "metadata": {},
   "outputs": [
    {
     "data": {
      "text/plain": [
       "Text(0.5, 1.0, 'CSI500 Return_rolling_var_30Mink')"
      ]
     },
     "execution_count": 99,
     "metadata": {},
     "output_type": "execute_result"
    },
    {
     "data": {
      "image/png": "[encoded data removed]",
      "text/plain": [
       "<Figure size 720x288 with 1 Axes>"
      ]
     },
     "metadata": {
      "needs_background": "light"
     },
     "output_type": "display_data"
    }
   ],
   "source": [
    "# Return \n",
    "plt.figure(figsize = (10,4))\n",
    "plt.plot(period_stock_data['Date_Time'],period_stock_data['return_30T'].rolling(20).std())\n",
    "plt.title('CSI500 Return_rolling_var_30Mink')"
   ]
  },
  {
   "cell_type": "code",
   "execution_count": 100,
   "metadata": {},
   "outputs": [
    {
     "data": {
      "text/plain": [
       "Text(0.5, 1.0, 'CSI500 P_Return_rolling_var_30Mink')"
      ]
     },
     "execution_count": 100,
     "metadata": {},
     "output_type": "execute_result"
    },
    {
     "data": {
      "image/png": "[encoded data removed]",
      "text/plain": [
       "<Figure size 720x288 with 1 Axes>"
      ]
     },
     "metadata": {
      "needs_background": "light"
     },
     "output_type": "display_data"
    }
   ],
   "source": [
    "# Return \n",
    "plt.figure(figsize = (10,4))\n",
    "plt.plot(period_stock_data['Date_Time'],period_stock_data['P_return_30T'].rolling(20).std())\n",
    "plt.title('CSI500 P_Return_rolling_var_30Mink')"
   ]
  },
  {
   "cell_type": "markdown",
   "metadata": {},
   "source": [
    "### 60分k"
   ]
  },
  {
   "cell_type": "code",
   "execution_count": 103,
   "metadata": {},
   "outputs": [
    {
     "data": {
      "text/html": [
       "<div>\n",
       "<style scoped>\n",
       "    .dataframe tbody tr th:only-of-type {\n",
       "        vertical-align: middle;\n",
       "    }\n",
       "\n",
       "    .dataframe tbody tr th {\n",
       "        vertical-align: top;\n",
       "    }\n",
       "\n",
       "    .dataframe thead th {\n",
       "        text-align: right;\n",
       "    }\n",
       "</style>\n",
       "<table border=\"1\" class=\"dataframe\">\n",
       "  <thead>\n",
       "    <tr style=\"text-align: right;\">\n",
       "      <th></th>\n",
       "      <th>Date_Time</th>\n",
       "      <th>Date</th>\n",
       "      <th>Time</th>\n",
       "      <th>Open</th>\n",
       "      <th>High</th>\n",
       "      <th>Low</th>\n",
       "      <th>Close</th>\n",
       "      <th>TotalVolume</th>\n",
       "      <th>Year</th>\n",
       "      <th>Month</th>\n",
       "      <th>...</th>\n",
       "      <th>close_1H</th>\n",
       "      <th>high_1H</th>\n",
       "      <th>low_1H</th>\n",
       "      <th>volume_1H</th>\n",
       "      <th>range_1H</th>\n",
       "      <th>diff_1H</th>\n",
       "      <th>rotate_1H</th>\n",
       "      <th>up_down_1H</th>\n",
       "      <th>return_1H</th>\n",
       "      <th>P_return_1H</th>\n",
       "    </tr>\n",
       "  </thead>\n",
       "  <tbody>\n",
       "    <tr>\n",
       "      <th>0</th>\n",
       "      <td>2016-01-04 09:00:00</td>\n",
       "      <td>2016-01-04</td>\n",
       "      <td>09:59:00</td>\n",
       "      <td>7256.0</td>\n",
       "      <td>7265.2</td>\n",
       "      <td>7253.8</td>\n",
       "      <td>7260.0</td>\n",
       "      <td>35.0</td>\n",
       "      <td>2016.0</td>\n",
       "      <td>1.0</td>\n",
       "      <td>...</td>\n",
       "      <td>7260.0</td>\n",
       "      <td>7364.8</td>\n",
       "      <td>7222.6</td>\n",
       "      <td>2133</td>\n",
       "      <td>142.2</td>\n",
       "      <td>-90.0</td>\n",
       "      <td>-1.580000</td>\n",
       "      <td>-1</td>\n",
       "      <td>-1.224490</td>\n",
       "      <td>1.968820</td>\n",
       "    </tr>\n",
       "    <tr>\n",
       "      <th>1</th>\n",
       "      <td>2016-01-04 10:00:00</td>\n",
       "      <td>2016-01-04</td>\n",
       "      <td>10:59:00</td>\n",
       "      <td>7077.4</td>\n",
       "      <td>7078.0</td>\n",
       "      <td>7071.2</td>\n",
       "      <td>7075.0</td>\n",
       "      <td>14.0</td>\n",
       "      <td>2016.0</td>\n",
       "      <td>1.0</td>\n",
       "      <td>...</td>\n",
       "      <td>7075.0</td>\n",
       "      <td>7258.0</td>\n",
       "      <td>7029.2</td>\n",
       "      <td>2818</td>\n",
       "      <td>228.8</td>\n",
       "      <td>-183.0</td>\n",
       "      <td>-1.250273</td>\n",
       "      <td>-1</td>\n",
       "      <td>-2.521356</td>\n",
       "      <td>3.254993</td>\n",
       "    </tr>\n",
       "    <tr>\n",
       "      <th>2</th>\n",
       "      <td>2016-01-04 11:00:00</td>\n",
       "      <td>2016-01-04</td>\n",
       "      <td>11:30:00</td>\n",
       "      <td>7029.6</td>\n",
       "      <td>7031.2</td>\n",
       "      <td>7029.2</td>\n",
       "      <td>7029.2</td>\n",
       "      <td>19.0</td>\n",
       "      <td>2016.0</td>\n",
       "      <td>1.0</td>\n",
       "      <td>...</td>\n",
       "      <td>7029.2</td>\n",
       "      <td>7084.2</td>\n",
       "      <td>7029.2</td>\n",
       "      <td>761</td>\n",
       "      <td>55.0</td>\n",
       "      <td>-48.8</td>\n",
       "      <td>-1.127049</td>\n",
       "      <td>-1</td>\n",
       "      <td>-0.689460</td>\n",
       "      <td>0.782450</td>\n",
       "    </tr>\n",
       "    <tr>\n",
       "      <th>3</th>\n",
       "      <td>2016-01-04 13:00:00</td>\n",
       "      <td>2016-01-04</td>\n",
       "      <td>13:34:00</td>\n",
       "      <td>6881.2</td>\n",
       "      <td>6881.2</td>\n",
       "      <td>6881.2</td>\n",
       "      <td>6881.2</td>\n",
       "      <td>130.0</td>\n",
       "      <td>2016.0</td>\n",
       "      <td>1.0</td>\n",
       "      <td>...</td>\n",
       "      <td>6881.2</td>\n",
       "      <td>7029.2</td>\n",
       "      <td>6881.2</td>\n",
       "      <td>481</td>\n",
       "      <td>148.0</td>\n",
       "      <td>-148.0</td>\n",
       "      <td>-1.000000</td>\n",
       "      <td>-1</td>\n",
       "      <td>-2.105503</td>\n",
       "      <td>2.150788</td>\n",
       "    </tr>\n",
       "    <tr>\n",
       "      <th>4</th>\n",
       "      <td>2016-01-05 09:00:00</td>\n",
       "      <td>2016-01-05</td>\n",
       "      <td>09:59:00</td>\n",
       "      <td>6808.6</td>\n",
       "      <td>6815.0</td>\n",
       "      <td>6802.8</td>\n",
       "      <td>6806.0</td>\n",
       "      <td>47.0</td>\n",
       "      <td>2016.0</td>\n",
       "      <td>1.0</td>\n",
       "      <td>...</td>\n",
       "      <td>6806.0</td>\n",
       "      <td>6817.0</td>\n",
       "      <td>6650.0</td>\n",
       "      <td>4055</td>\n",
       "      <td>167.0</td>\n",
       "      <td>156.0</td>\n",
       "      <td>1.070513</td>\n",
       "      <td>1</td>\n",
       "      <td>2.345865</td>\n",
       "      <td>2.511278</td>\n",
       "    </tr>\n",
       "  </tbody>\n",
       "</table>\n",
       "<p>5 rows × 30 columns</p>\n",
       "</div>"
      ],
      "text/plain": [
       "            Date_Time       Date      Time    Open    High     Low   Close  \\\n",
       "0 2016-01-04 09:00:00 2016-01-04  09:59:00  7256.0  7265.2  7253.8  7260.0   \n",
       "1 2016-01-04 10:00:00 2016-01-04  10:59:00  7077.4  7078.0  7071.2  7075.0   \n",
       "2 2016-01-04 11:00:00 2016-01-04  11:30:00  7029.6  7031.2  7029.2  7029.2   \n",
       "3 2016-01-04 13:00:00 2016-01-04  13:34:00  6881.2  6881.2  6881.2  6881.2   \n",
       "4 2016-01-05 09:00:00 2016-01-05  09:59:00  6808.6  6815.0  6802.8  6806.0   \n",
       "\n",
       "   TotalVolume    Year  Month  ...  close_1H  high_1H  low_1H  volume_1H  \\\n",
       "0         35.0  2016.0    1.0  ...    7260.0   7364.8  7222.6       2133   \n",
       "1         14.0  2016.0    1.0  ...    7075.0   7258.0  7029.2       2818   \n",
       "2         19.0  2016.0    1.0  ...    7029.2   7084.2  7029.2        761   \n",
       "3        130.0  2016.0    1.0  ...    6881.2   7029.2  6881.2        481   \n",
       "4         47.0  2016.0    1.0  ...    6806.0   6817.0  6650.0       4055   \n",
       "\n",
       "   range_1H  diff_1H  rotate_1H  up_down_1H  return_1H  P_return_1H  \n",
       "0     142.2    -90.0  -1.580000          -1  -1.224490     1.968820  \n",
       "1     228.8   -183.0  -1.250273          -1  -2.521356     3.254993  \n",
       "2      55.0    -48.8  -1.127049          -1  -0.689460     0.782450  \n",
       "3     148.0   -148.0  -1.000000          -1  -2.105503     2.150788  \n",
       "4     167.0    156.0   1.070513           1   2.345865     2.511278  \n",
       "\n",
       "[5 rows x 30 columns]"
      ]
     },
     "execution_count": 103,
     "metadata": {},
     "output_type": "execute_result"
    }
   ],
   "source": [
    "# from min k to 60 min k (Training)\n",
    "stock = CSI500_train.set_index('Date_Time')\n",
    "period_type = '1H'\n",
    "period_stock_data = stock.resample(period_type,how='last')\n",
    "period_stock_data['open_%s'%(period_type)] = stock['Open'].resample(period_type,how='first')\n",
    "period_stock_data['close_%s'%(period_type)] = stock['Close'].resample(period_type,how='last')\n",
    "period_stock_data['high_%s'%(period_type)] = stock['High'].resample(period_type,how='max')\n",
    "period_stock_data['low_%s'%(period_type)] = stock['Low'].resample(period_type,how='min')\n",
    "period_stock_data['volume_%s'%(period_type)] = stock['TotalVolume'].resample(period_type,how='sum')\n",
    "period_stock_data['range_%s'%(period_type)] = period_stock_data['high_%s'%(period_type)] - period_stock_data['low_%s'%(period_type)]\n",
    "period_stock_data['diff_%s'%(period_type)] = period_stock_data['close_%s'%(period_type)] - period_stock_data['open_%s'%(period_type)]\n",
    "period_stock_data['rotate_%s'%(period_type)] = abs(period_stock_data['range_%s'%(period_type)]) / period_stock_data['diff_%s'%(period_type)]\n",
    "period_stock_data['up_down_%s'%(period_type)] = period_stock_data['diff_%s'%(period_type)].map(lambda x: 1 if x >0 else -1)\n",
    "period_stock_data['return_%s'%(period_type)] = ((period_stock_data['close_%s'%(period_type)] -  \\\n",
    "                                     period_stock_data['open_%s'%(period_type)]) / period_stock_data['open_%s'%(period_type)]) *100\n",
    "period_stock_data['P_return_%s'%(period_type)] = ((period_stock_data['high_%s'%(period_type)] -  \\\n",
    "                                     period_stock_data['low_%s'%(period_type)]) / period_stock_data['low_%s'%(period_type)]) *100\n",
    "period_stock_data.dropna(how='any',inplace=True)\n",
    "period_stock_data.reset_index(inplace=True)\n",
    "period_stock_data.head()"
   ]
  },
  {
   "cell_type": "code",
   "execution_count": 104,
   "metadata": {
    "scrolled": false
   },
   "outputs": [
    {
     "data": {
      "text/plain": [
       "Text(0.5, 1.0, 'CSI500 Return_rolling_var_60Mink')"
      ]
     },
     "execution_count": 104,
     "metadata": {},
     "output_type": "execute_result"
    },
    {
     "data": {
      "image/png": "[encoded data removed]",
      "text/plain": [
       "<Figure size 720x288 with 1 Axes>"
      ]
     },
     "metadata": {
      "needs_background": "light"
     },
     "output_type": "display_data"
    }
   ],
   "source": [
    "# Return \n",
    "plt.figure(figsize = (10,4))\n",
    "plt.plot(period_stock_data['Date_Time'],period_stock_data['return_1H'].rolling(20).std())\n",
    "plt.title('CSI500 Return_rolling_var_60Mink')"
   ]
  },
  {
   "cell_type": "code",
   "execution_count": 105,
   "metadata": {
    "scrolled": false
   },
   "outputs": [
    {
     "data": {
      "text/plain": [
       "Text(0.5, 1.0, 'CSI500 P_Return_rolling_var_60Mink')"
      ]
     },
     "execution_count": 105,
     "metadata": {},
     "output_type": "execute_result"
    },
    {
     "data": {
      "image/png": "[encoded data removed]",
      "text/plain": [
       "<Figure size 720x288 with 1 Axes>"
      ]
     },
     "metadata": {
      "needs_background": "light"
     },
     "output_type": "display_data"
    }
   ],
   "source": [
    "# Return \n",
    "plt.figure(figsize = (10,4))\n",
    "plt.plot(period_stock_data['Date_Time'],period_stock_data['P_return_1H'].rolling(20).std())\n",
    "plt.title('CSI500 P_Return_rolling_var_60Mink')"
   ]
  },
  {
   "cell_type": "markdown",
   "metadata": {},
   "source": [
    "### 日內波動度分析"
   ]
  },
  {
   "cell_type": "code",
   "execution_count": 8,
   "metadata": {},
   "outputs": [
    {
     "data": {
      "text/html": [
       "<div>\n",
       "<style scoped>\n",
       "    .dataframe tbody tr th:only-of-type {\n",
       "        vertical-align: middle;\n",
       "    }\n",
       "\n",
       "    .dataframe tbody tr th {\n",
       "        vertical-align: top;\n",
       "    }\n",
       "\n",
       "    .dataframe thead th {\n",
       "        text-align: right;\n",
       "    }\n",
       "</style>\n",
       "<table border=\"1\" class=\"dataframe\">\n",
       "  <thead>\n",
       "    <tr style=\"text-align: right;\">\n",
       "      <th></th>\n",
       "      <th>Date_Time</th>\n",
       "      <th>Date</th>\n",
       "      <th>Time</th>\n",
       "      <th>Open</th>\n",
       "      <th>High</th>\n",
       "      <th>Low</th>\n",
       "      <th>Close</th>\n",
       "      <th>TotalVolume</th>\n",
       "      <th>Year</th>\n",
       "      <th>Month</th>\n",
       "      <th>...</th>\n",
       "      <th>close_1D</th>\n",
       "      <th>high_1D</th>\n",
       "      <th>low_1D</th>\n",
       "      <th>volume_1D</th>\n",
       "      <th>range_1D</th>\n",
       "      <th>diff_1D</th>\n",
       "      <th>rotate_1D</th>\n",
       "      <th>up_down_1D</th>\n",
       "      <th>return_1D</th>\n",
       "      <th>P_return_1D</th>\n",
       "    </tr>\n",
       "  </thead>\n",
       "  <tbody>\n",
       "    <tr>\n",
       "      <th>0</th>\n",
       "      <td>2015-04-17</td>\n",
       "      <td>2015-04-17</td>\n",
       "      <td>15:15:00</td>\n",
       "      <td>7760.0</td>\n",
       "      <td>7760.0</td>\n",
       "      <td>7755.6</td>\n",
       "      <td>7758.2</td>\n",
       "      <td>426.0</td>\n",
       "      <td>2015.0</td>\n",
       "      <td>4.0</td>\n",
       "      <td>...</td>\n",
       "      <td>7758.2</td>\n",
       "      <td>7918.8</td>\n",
       "      <td>7631.2</td>\n",
       "      <td>115260</td>\n",
       "      <td>287.6</td>\n",
       "      <td>36.2</td>\n",
       "      <td>7.944751</td>\n",
       "      <td>1</td>\n",
       "      <td>0.004688</td>\n",
       "      <td>0.037687</td>\n",
       "    </tr>\n",
       "    <tr>\n",
       "      <th>1</th>\n",
       "      <td>2015-04-20</td>\n",
       "      <td>2015-04-20</td>\n",
       "      <td>15:15:00</td>\n",
       "      <td>7618.8</td>\n",
       "      <td>7624.8</td>\n",
       "      <td>7618.0</td>\n",
       "      <td>7622.2</td>\n",
       "      <td>480.0</td>\n",
       "      <td>2015.0</td>\n",
       "      <td>4.0</td>\n",
       "      <td>...</td>\n",
       "      <td>7622.2</td>\n",
       "      <td>7856.0</td>\n",
       "      <td>7583.0</td>\n",
       "      <td>100049</td>\n",
       "      <td>273.0</td>\n",
       "      <td>-137.8</td>\n",
       "      <td>-1.981132</td>\n",
       "      <td>-1</td>\n",
       "      <td>-0.017758</td>\n",
       "      <td>0.036002</td>\n",
       "    </tr>\n",
       "    <tr>\n",
       "      <th>2</th>\n",
       "      <td>2015-04-21</td>\n",
       "      <td>2015-04-21</td>\n",
       "      <td>15:15:00</td>\n",
       "      <td>8140.6</td>\n",
       "      <td>8147.0</td>\n",
       "      <td>8137.0</td>\n",
       "      <td>8140.4</td>\n",
       "      <td>1394.0</td>\n",
       "      <td>2015.0</td>\n",
       "      <td>4.0</td>\n",
       "      <td>...</td>\n",
       "      <td>8140.4</td>\n",
       "      <td>8147.0</td>\n",
       "      <td>7640.2</td>\n",
       "      <td>133906</td>\n",
       "      <td>506.8</td>\n",
       "      <td>490.2</td>\n",
       "      <td>1.033864</td>\n",
       "      <td>1</td>\n",
       "      <td>0.064077</td>\n",
       "      <td>0.066333</td>\n",
       "    </tr>\n",
       "    <tr>\n",
       "      <th>3</th>\n",
       "      <td>2015-04-22</td>\n",
       "      <td>2015-04-22</td>\n",
       "      <td>15:15:00</td>\n",
       "      <td>8188.0</td>\n",
       "      <td>8191.0</td>\n",
       "      <td>8185.8</td>\n",
       "      <td>8189.8</td>\n",
       "      <td>458.0</td>\n",
       "      <td>2015.0</td>\n",
       "      <td>4.0</td>\n",
       "      <td>...</td>\n",
       "      <td>8189.8</td>\n",
       "      <td>8237.2</td>\n",
       "      <td>8104.6</td>\n",
       "      <td>123495</td>\n",
       "      <td>132.6</td>\n",
       "      <td>31.8</td>\n",
       "      <td>4.169811</td>\n",
       "      <td>1</td>\n",
       "      <td>0.003898</td>\n",
       "      <td>0.016361</td>\n",
       "    </tr>\n",
       "    <tr>\n",
       "      <th>4</th>\n",
       "      <td>2015-04-23</td>\n",
       "      <td>2015-04-23</td>\n",
       "      <td>15:15:00</td>\n",
       "      <td>8268.0</td>\n",
       "      <td>8268.6</td>\n",
       "      <td>8261.2</td>\n",
       "      <td>8265.6</td>\n",
       "      <td>349.0</td>\n",
       "      <td>2015.0</td>\n",
       "      <td>4.0</td>\n",
       "      <td>...</td>\n",
       "      <td>8265.6</td>\n",
       "      <td>8378.0</td>\n",
       "      <td>8161.8</td>\n",
       "      <td>133570</td>\n",
       "      <td>216.2</td>\n",
       "      <td>72.6</td>\n",
       "      <td>2.977961</td>\n",
       "      <td>1</td>\n",
       "      <td>0.008861</td>\n",
       "      <td>0.026489</td>\n",
       "    </tr>\n",
       "  </tbody>\n",
       "</table>\n",
       "<p>5 rows × 30 columns</p>\n",
       "</div>"
      ],
      "text/plain": [
       "   Date_Time       Date      Time    Open    High     Low   Close  \\\n",
       "0 2015-04-17 2015-04-17  15:15:00  7760.0  7760.0  7755.6  7758.2   \n",
       "1 2015-04-20 2015-04-20  15:15:00  7618.8  7624.8  7618.0  7622.2   \n",
       "2 2015-04-21 2015-04-21  15:15:00  8140.6  8147.0  8137.0  8140.4   \n",
       "3 2015-04-22 2015-04-22  15:15:00  8188.0  8191.0  8185.8  8189.8   \n",
       "4 2015-04-23 2015-04-23  15:15:00  8268.0  8268.6  8261.2  8265.6   \n",
       "\n",
       "   TotalVolume    Year  Month  ...  close_1D  high_1D  low_1D  volume_1D  \\\n",
       "0        426.0  2015.0    4.0  ...    7758.2   7918.8  7631.2     115260   \n",
       "1        480.0  2015.0    4.0  ...    7622.2   7856.0  7583.0     100049   \n",
       "2       1394.0  2015.0    4.0  ...    8140.4   8147.0  7640.2     133906   \n",
       "3        458.0  2015.0    4.0  ...    8189.8   8237.2  8104.6     123495   \n",
       "4        349.0  2015.0    4.0  ...    8265.6   8378.0  8161.8     133570   \n",
       "\n",
       "   range_1D  diff_1D  rotate_1D  up_down_1D  return_1D  P_return_1D  \n",
       "0     287.6     36.2   7.944751           1   0.004688     0.037687  \n",
       "1     273.0   -137.8  -1.981132          -1  -0.017758     0.036002  \n",
       "2     506.8    490.2   1.033864           1   0.064077     0.066333  \n",
       "3     132.6     31.8   4.169811           1   0.003898     0.016361  \n",
       "4     216.2     72.6   2.977961           1   0.008861     0.026489  \n",
       "\n",
       "[5 rows x 30 columns]"
      ]
     },
     "execution_count": 8,
     "metadata": {},
     "output_type": "execute_result"
    }
   ],
   "source": [
    "# from min k to Day k (Training)\n",
    "stock = CSI500.set_index('Date_Time')\n",
    "period_type = '1D'\n",
    "period_stock_data = stock.resample(period_type,how='last')\n",
    "period_stock_data['open_%s'%(period_type)] = stock['Open'].resample(period_type,how='first')\n",
    "period_stock_data['close_%s'%(period_type)] = stock['Close'].resample(period_type,how='last')\n",
    "period_stock_data['high_%s'%(period_type)] = stock['High'].resample(period_type,how='max')\n",
    "period_stock_data['low_%s'%(period_type)] = stock['Low'].resample(period_type,how='min')\n",
    "period_stock_data['volume_%s'%(period_type)] = stock['TotalVolume'].resample(period_type,how='sum')\n",
    "period_stock_data['range_%s'%(period_type)] = period_stock_data['high_%s'%(period_type)] - period_stock_data['low_%s'%(period_type)]\n",
    "period_stock_data['diff_%s'%(period_type)] = period_stock_data['close_%s'%(period_type)] - period_stock_data['open_%s'%(period_type)]\n",
    "period_stock_data['rotate_%s'%(period_type)] = abs(period_stock_data['range_%s'%(period_type)]) / period_stock_data['diff_%s'%(period_type)]\n",
    "period_stock_data['up_down_%s'%(period_type)] = period_stock_data['diff_%s'%(period_type)].map(lambda x: 1 if x >0 else -1)\n",
    "period_stock_data['return_%s'%(period_type)] = ((period_stock_data['close_%s'%(period_type)] -  \\\n",
    "                                     period_stock_data['open_%s'%(period_type)]) / period_stock_data['open_%s'%(period_type)]) \n",
    "period_stock_data['P_return_%s'%(period_type)] = ((period_stock_data['high_%s'%(period_type)] -  \\\n",
    "                                     period_stock_data['low_%s'%(period_type)]) / period_stock_data['low_%s'%(period_type)]) \n",
    "period_stock_data.dropna(how='any',inplace=True)\n",
    "period_stock_data.reset_index(inplace=True)\n",
    "period_stock_data.head()"
   ]
  },
  {
   "cell_type": "markdown",
   "metadata": {},
   "source": [
    "### 紅黑 k 報酬 (日內)"
   ]
  },
  {
   "cell_type": "code",
   "execution_count": 9,
   "metadata": {
    "scrolled": true
   },
   "outputs": [
    {
     "data": {
      "text/plain": [
       "count    525.000000\n",
       "mean       0.012921\n",
       "std        0.014898\n",
       "min        0.000030\n",
       "25%        0.003879\n",
       "50%        0.008030\n",
       "75%        0.016751\n",
       "max        0.099990\n",
       "Name: return_1D, dtype: float64"
      ]
     },
     "execution_count": 9,
     "metadata": {},
     "output_type": "execute_result"
    }
   ],
   "source": [
    "# Red k return\n",
    "return_mask = period_stock_data['diff_1D'] > 0\n",
    "period_stock_data.loc[return_mask,'return_1D'].describe()"
   ]
  },
  {
   "cell_type": "code",
   "execution_count": 10,
   "metadata": {},
   "outputs": [
    {
     "data": {
      "text/plain": [
       "count    499.000000\n",
       "mean      -0.014013\n",
       "std        0.018349\n",
       "min       -0.116022\n",
       "25%       -0.016552\n",
       "50%       -0.007695\n",
       "75%       -0.003001\n",
       "max       -0.000035\n",
       "Name: return_1D, dtype: float64"
      ]
     },
     "execution_count": 10,
     "metadata": {},
     "output_type": "execute_result"
    }
   ],
   "source": [
    "# Black k return\n",
    "return_mask = period_stock_data['diff_1D'] < 0\n",
    "period_stock_data.loc[return_mask,'return_1D'].describe()"
   ]
  },
  {
   "cell_type": "markdown",
   "metadata": {},
   "source": [
    "## CSI500 Spot Data "
   ]
  },
  {
   "cell_type": "code",
   "execution_count": 8,
   "metadata": {
    "scrolled": true
   },
   "outputs": [
    {
     "data": {
      "text/html": [
       "<div>\n",
       "<style scoped>\n",
       "    .dataframe tbody tr th:only-of-type {\n",
       "        vertical-align: middle;\n",
       "    }\n",
       "\n",
       "    .dataframe tbody tr th {\n",
       "        vertical-align: top;\n",
       "    }\n",
       "\n",
       "    .dataframe thead th {\n",
       "        text-align: right;\n",
       "    }\n",
       "</style>\n",
       "<table border=\"1\" class=\"dataframe\">\n",
       "  <thead>\n",
       "    <tr style=\"text-align: right;\">\n",
       "      <th></th>\n",
       "      <th>Date</th>\n",
       "      <th>Time</th>\n",
       "      <th>Open</th>\n",
       "      <th>High</th>\n",
       "      <th>Low</th>\n",
       "      <th>Close</th>\n",
       "      <th>TotalVolume</th>\n",
       "      <th>Date_Time</th>\n",
       "      <th>Year</th>\n",
       "      <th>Month</th>\n",
       "      <th>Week_day</th>\n",
       "      <th>Range</th>\n",
       "      <th>Diff</th>\n",
       "      <th>Rotate</th>\n",
       "      <th>Up_down</th>\n",
       "      <th>Return</th>\n",
       "      <th>P_Return</th>\n",
       "    </tr>\n",
       "  </thead>\n",
       "  <tbody>\n",
       "    <tr>\n",
       "      <th>0</th>\n",
       "      <td>2015-04-17</td>\n",
       "      <td>09:31:00</td>\n",
       "      <td>7979.35</td>\n",
       "      <td>8012.97</td>\n",
       "      <td>7979.35</td>\n",
       "      <td>8012.97</td>\n",
       "      <td>3583849</td>\n",
       "      <td>2015-04-17 09:31:00</td>\n",
       "      <td>2015</td>\n",
       "      <td>4</td>\n",
       "      <td>5</td>\n",
       "      <td>33.62</td>\n",
       "      <td>33.62</td>\n",
       "      <td>1.000000</td>\n",
       "      <td>1</td>\n",
       "      <td>0.421338</td>\n",
       "      <td>0.421338</td>\n",
       "    </tr>\n",
       "    <tr>\n",
       "      <th>1</th>\n",
       "      <td>2015-04-17</td>\n",
       "      <td>09:32:00</td>\n",
       "      <td>8014.90</td>\n",
       "      <td>8023.69</td>\n",
       "      <td>8014.90</td>\n",
       "      <td>8023.67</td>\n",
       "      <td>1808228</td>\n",
       "      <td>2015-04-17 09:32:00</td>\n",
       "      <td>2015</td>\n",
       "      <td>4</td>\n",
       "      <td>5</td>\n",
       "      <td>8.79</td>\n",
       "      <td>8.77</td>\n",
       "      <td>0.997725</td>\n",
       "      <td>1</td>\n",
       "      <td>0.109421</td>\n",
       "      <td>0.109671</td>\n",
       "    </tr>\n",
       "    <tr>\n",
       "      <th>2</th>\n",
       "      <td>2015-04-17</td>\n",
       "      <td>09:33:00</td>\n",
       "      <td>8023.75</td>\n",
       "      <td>8023.75</td>\n",
       "      <td>8014.48</td>\n",
       "      <td>8014.92</td>\n",
       "      <td>2022359</td>\n",
       "      <td>2015-04-17 09:33:00</td>\n",
       "      <td>2015</td>\n",
       "      <td>4</td>\n",
       "      <td>5</td>\n",
       "      <td>9.27</td>\n",
       "      <td>-8.83</td>\n",
       "      <td>0.952535</td>\n",
       "      <td>-1</td>\n",
       "      <td>-0.110048</td>\n",
       "      <td>0.115666</td>\n",
       "    </tr>\n",
       "    <tr>\n",
       "      <th>3</th>\n",
       "      <td>2015-04-17</td>\n",
       "      <td>09:34:00</td>\n",
       "      <td>8013.18</td>\n",
       "      <td>8013.18</td>\n",
       "      <td>8001.08</td>\n",
       "      <td>8001.08</td>\n",
       "      <td>1860753</td>\n",
       "      <td>2015-04-17 09:34:00</td>\n",
       "      <td>2015</td>\n",
       "      <td>4</td>\n",
       "      <td>5</td>\n",
       "      <td>12.10</td>\n",
       "      <td>-12.10</td>\n",
       "      <td>1.000000</td>\n",
       "      <td>-1</td>\n",
       "      <td>-0.151001</td>\n",
       "      <td>0.151230</td>\n",
       "    </tr>\n",
       "    <tr>\n",
       "      <th>4</th>\n",
       "      <td>2015-04-17</td>\n",
       "      <td>09:35:00</td>\n",
       "      <td>8001.17</td>\n",
       "      <td>8001.17</td>\n",
       "      <td>7996.26</td>\n",
       "      <td>7996.26</td>\n",
       "      <td>1495177</td>\n",
       "      <td>2015-04-17 09:35:00</td>\n",
       "      <td>2015</td>\n",
       "      <td>4</td>\n",
       "      <td>5</td>\n",
       "      <td>4.91</td>\n",
       "      <td>-4.91</td>\n",
       "      <td>1.000000</td>\n",
       "      <td>-1</td>\n",
       "      <td>-0.061366</td>\n",
       "      <td>0.061404</td>\n",
       "    </tr>\n",
       "  </tbody>\n",
       "</table>\n",
       "</div>"
      ],
      "text/plain": [
       "        Date      Time     Open     High      Low    Close  TotalVolume  \\\n",
       "0 2015-04-17  09:31:00  7979.35  8012.97  7979.35  8012.97      3583849   \n",
       "1 2015-04-17  09:32:00  8014.90  8023.69  8014.90  8023.67      1808228   \n",
       "2 2015-04-17  09:33:00  8023.75  8023.75  8014.48  8014.92      2022359   \n",
       "3 2015-04-17  09:34:00  8013.18  8013.18  8001.08  8001.08      1860753   \n",
       "4 2015-04-17  09:35:00  8001.17  8001.17  7996.26  7996.26      1495177   \n",
       "\n",
       "            Date_Time  Year  Month  Week_day  Range   Diff    Rotate  Up_down  \\\n",
       "0 2015-04-17 09:31:00  2015      4         5  33.62  33.62  1.000000        1   \n",
       "1 2015-04-17 09:32:00  2015      4         5   8.79   8.77  0.997725        1   \n",
       "2 2015-04-17 09:33:00  2015      4         5   9.27  -8.83  0.952535       -1   \n",
       "3 2015-04-17 09:34:00  2015      4         5  12.10 -12.10  1.000000       -1   \n",
       "4 2015-04-17 09:35:00  2015      4         5   4.91  -4.91  1.000000       -1   \n",
       "\n",
       "     Return  P_Return  \n",
       "0  0.421338  0.421338  \n",
       "1  0.109421  0.109671  \n",
       "2 -0.110048  0.115666  \n",
       "3 -0.151001  0.151230  \n",
       "4 -0.061366  0.061404  "
      ]
     },
     "execution_count": 8,
     "metadata": {},
     "output_type": "execute_result"
    }
   ],
   "source": [
    "# import data\n",
    "dir_data = 'C:\\\\Users\\\\user\\\\Desktop\\\\MultiChart\\\\中證500股指期貨'\n",
    "Data_Path = os.path.join(dir_data, 'SSE.txt')\n",
    "SSE = pd.read_csv(Data_Path, engine='python')\n",
    "SSE.dropna(how='any',inplace=True)\n",
    "SSE.Date = pd.to_datetime(SSE.Date)\n",
    "SSE['Date_Time'] = pd.to_datetime(SSE['Date'].map(lambda x: str(x)) + ' ' + SSE['Time'])\n",
    "# Create Year & month & Return\n",
    "SSE['Year'] = SSE['Date'].map(lambda x: x.year)\n",
    "SSE['Month'] = SSE['Date'].map(lambda x: x.month)\n",
    "SSE['Week_day'] = SSE['Date'].map(lambda x: x.weekday() + 1)\n",
    "SSE['Range'] = SSE['High'] - SSE['Low']\n",
    "SSE['Diff'] = SSE['Close'] - SSE['Open']\n",
    "SSE['Rotate'] = abs(SSE['Diff']) / SSE['Range']\n",
    "SSE['Up_down'] = SSE['Diff'].map(lambda x: 1 if x > 0 else (-1 if x < 0 else 0))\n",
    "SSE['Return'] = ((SSE['Close'] - SSE['Open']) / SSE['Open'])*100\n",
    "SSE['P_Return'] = ((SSE['High'] - SSE['Low']) / SSE['Low'])*100\n",
    "# Sort SSE by Date\n",
    "SSE = SSE.sort_values(by = ['Date_Time'])\n",
    "Year_sorted = np.sort(SSE.Year.unique())\n",
    "SSE.head()"
   ]
  },
  {
   "cell_type": "code",
   "execution_count": 9,
   "metadata": {},
   "outputs": [
    {
     "data": {
      "text/html": [
       "<div>\n",
       "<style scoped>\n",
       "    .dataframe tbody tr th:only-of-type {\n",
       "        vertical-align: middle;\n",
       "    }\n",
       "\n",
       "    .dataframe tbody tr th {\n",
       "        vertical-align: top;\n",
       "    }\n",
       "\n",
       "    .dataframe thead th {\n",
       "        text-align: right;\n",
       "    }\n",
       "</style>\n",
       "<table border=\"1\" class=\"dataframe\">\n",
       "  <thead>\n",
       "    <tr style=\"text-align: right;\">\n",
       "      <th></th>\n",
       "      <th>Date</th>\n",
       "      <th>Time</th>\n",
       "      <th>Open</th>\n",
       "      <th>High</th>\n",
       "      <th>Low</th>\n",
       "      <th>Close</th>\n",
       "      <th>TotalVolume</th>\n",
       "      <th>Date_Time</th>\n",
       "      <th>Year</th>\n",
       "      <th>Month</th>\n",
       "      <th>Week_day</th>\n",
       "      <th>Range</th>\n",
       "      <th>Diff</th>\n",
       "      <th>Rotate</th>\n",
       "      <th>Up_down</th>\n",
       "      <th>Return</th>\n",
       "      <th>P_Return</th>\n",
       "      <th>Hour</th>\n",
       "      <th>Min</th>\n",
       "    </tr>\n",
       "  </thead>\n",
       "  <tbody>\n",
       "    <tr>\n",
       "      <th>0</th>\n",
       "      <td>2015-04-17</td>\n",
       "      <td>09:31:00</td>\n",
       "      <td>7979.35</td>\n",
       "      <td>8012.97</td>\n",
       "      <td>7979.35</td>\n",
       "      <td>8012.97</td>\n",
       "      <td>3583849</td>\n",
       "      <td>2015-04-17 09:31:00</td>\n",
       "      <td>2015</td>\n",
       "      <td>4</td>\n",
       "      <td>5</td>\n",
       "      <td>33.62</td>\n",
       "      <td>33.62</td>\n",
       "      <td>1.000000</td>\n",
       "      <td>1</td>\n",
       "      <td>0.421338</td>\n",
       "      <td>0.421338</td>\n",
       "      <td>9</td>\n",
       "      <td>31</td>\n",
       "    </tr>\n",
       "    <tr>\n",
       "      <th>1</th>\n",
       "      <td>2015-04-17</td>\n",
       "      <td>09:32:00</td>\n",
       "      <td>8014.90</td>\n",
       "      <td>8023.69</td>\n",
       "      <td>8014.90</td>\n",
       "      <td>8023.67</td>\n",
       "      <td>1808228</td>\n",
       "      <td>2015-04-17 09:32:00</td>\n",
       "      <td>2015</td>\n",
       "      <td>4</td>\n",
       "      <td>5</td>\n",
       "      <td>8.79</td>\n",
       "      <td>8.77</td>\n",
       "      <td>0.997725</td>\n",
       "      <td>1</td>\n",
       "      <td>0.109421</td>\n",
       "      <td>0.109671</td>\n",
       "      <td>9</td>\n",
       "      <td>32</td>\n",
       "    </tr>\n",
       "    <tr>\n",
       "      <th>2</th>\n",
       "      <td>2015-04-17</td>\n",
       "      <td>09:33:00</td>\n",
       "      <td>8023.75</td>\n",
       "      <td>8023.75</td>\n",
       "      <td>8014.48</td>\n",
       "      <td>8014.92</td>\n",
       "      <td>2022359</td>\n",
       "      <td>2015-04-17 09:33:00</td>\n",
       "      <td>2015</td>\n",
       "      <td>4</td>\n",
       "      <td>5</td>\n",
       "      <td>9.27</td>\n",
       "      <td>-8.83</td>\n",
       "      <td>0.952535</td>\n",
       "      <td>-1</td>\n",
       "      <td>-0.110048</td>\n",
       "      <td>0.115666</td>\n",
       "      <td>9</td>\n",
       "      <td>33</td>\n",
       "    </tr>\n",
       "    <tr>\n",
       "      <th>3</th>\n",
       "      <td>2015-04-17</td>\n",
       "      <td>09:34:00</td>\n",
       "      <td>8013.18</td>\n",
       "      <td>8013.18</td>\n",
       "      <td>8001.08</td>\n",
       "      <td>8001.08</td>\n",
       "      <td>1860753</td>\n",
       "      <td>2015-04-17 09:34:00</td>\n",
       "      <td>2015</td>\n",
       "      <td>4</td>\n",
       "      <td>5</td>\n",
       "      <td>12.10</td>\n",
       "      <td>-12.10</td>\n",
       "      <td>1.000000</td>\n",
       "      <td>-1</td>\n",
       "      <td>-0.151001</td>\n",
       "      <td>0.151230</td>\n",
       "      <td>9</td>\n",
       "      <td>34</td>\n",
       "    </tr>\n",
       "    <tr>\n",
       "      <th>4</th>\n",
       "      <td>2015-04-17</td>\n",
       "      <td>09:35:00</td>\n",
       "      <td>8001.17</td>\n",
       "      <td>8001.17</td>\n",
       "      <td>7996.26</td>\n",
       "      <td>7996.26</td>\n",
       "      <td>1495177</td>\n",
       "      <td>2015-04-17 09:35:00</td>\n",
       "      <td>2015</td>\n",
       "      <td>4</td>\n",
       "      <td>5</td>\n",
       "      <td>4.91</td>\n",
       "      <td>-4.91</td>\n",
       "      <td>1.000000</td>\n",
       "      <td>-1</td>\n",
       "      <td>-0.061366</td>\n",
       "      <td>0.061404</td>\n",
       "      <td>9</td>\n",
       "      <td>35</td>\n",
       "    </tr>\n",
       "  </tbody>\n",
       "</table>\n",
       "</div>"
      ],
      "text/plain": [
       "        Date      Time     Open     High      Low    Close  TotalVolume  \\\n",
       "0 2015-04-17  09:31:00  7979.35  8012.97  7979.35  8012.97      3583849   \n",
       "1 2015-04-17  09:32:00  8014.90  8023.69  8014.90  8023.67      1808228   \n",
       "2 2015-04-17  09:33:00  8023.75  8023.75  8014.48  8014.92      2022359   \n",
       "3 2015-04-17  09:34:00  8013.18  8013.18  8001.08  8001.08      1860753   \n",
       "4 2015-04-17  09:35:00  8001.17  8001.17  7996.26  7996.26      1495177   \n",
       "\n",
       "            Date_Time  Year  Month  Week_day  Range   Diff    Rotate  Up_down  \\\n",
       "0 2015-04-17 09:31:00  2015      4         5  33.62  33.62  1.000000        1   \n",
       "1 2015-04-17 09:32:00  2015      4         5   8.79   8.77  0.997725        1   \n",
       "2 2015-04-17 09:33:00  2015      4         5   9.27  -8.83  0.952535       -1   \n",
       "3 2015-04-17 09:34:00  2015      4         5  12.10 -12.10  1.000000       -1   \n",
       "4 2015-04-17 09:35:00  2015      4         5   4.91  -4.91  1.000000       -1   \n",
       "\n",
       "     Return  P_Return  Hour  Min  \n",
       "0  0.421338  0.421338     9   31  \n",
       "1  0.109421  0.109671     9   32  \n",
       "2 -0.110048  0.115666     9   33  \n",
       "3 -0.151001  0.151230     9   34  \n",
       "4 -0.061366  0.061404     9   35  "
      ]
     },
     "execution_count": 9,
     "metadata": {},
     "output_type": "execute_result"
    }
   ],
   "source": [
    "# Split time\n",
    "time = SSE['Time'].str.split(':', 2, expand = True)\n",
    "SSE['Hour'] = time[0].astype(int)\n",
    "SSE['Min'] = time[1].astype(int)\n",
    "SSE.head()"
   ]
  },
  {
   "cell_type": "code",
   "execution_count": 10,
   "metadata": {},
   "outputs": [],
   "source": [
    "#Split data (Train/ Test)\n",
    "start_date = datetime.strptime('2016-01-01', '%Y-%m-%d')\n",
    "end_date = datetime.strptime('2018-12-31', '%Y-%m-%d')\n",
    "msk = (SSE['Date'] <= end_date) & (SSE['Date'] >= start_date)\n",
    "SSE_train = SSE.loc[msk]\n",
    "SSE_test = SSE.loc[~msk]"
   ]
  },
  {
   "cell_type": "markdown",
   "metadata": {},
   "source": [
    "### 期現貨資料合併"
   ]
  },
  {
   "cell_type": "code",
   "execution_count": 11,
   "metadata": {},
   "outputs": [
    {
     "data": {
      "text/html": [
       "<div>\n",
       "<style scoped>\n",
       "    .dataframe tbody tr th:only-of-type {\n",
       "        vertical-align: middle;\n",
       "    }\n",
       "\n",
       "    .dataframe tbody tr th {\n",
       "        vertical-align: top;\n",
       "    }\n",
       "\n",
       "    .dataframe thead th {\n",
       "        text-align: right;\n",
       "    }\n",
       "</style>\n",
       "<table border=\"1\" class=\"dataframe\">\n",
       "  <thead>\n",
       "    <tr style=\"text-align: right;\">\n",
       "      <th></th>\n",
       "      <th>Date</th>\n",
       "      <th>Time</th>\n",
       "      <th>Open</th>\n",
       "      <th>High</th>\n",
       "      <th>Low</th>\n",
       "      <th>Close_CSI500</th>\n",
       "      <th>TotalVolume</th>\n",
       "      <th>Date_Time</th>\n",
       "      <th>Year</th>\n",
       "      <th>Month</th>\n",
       "      <th>Week_day</th>\n",
       "      <th>Range</th>\n",
       "      <th>Diff</th>\n",
       "      <th>Rotate</th>\n",
       "      <th>Up_down</th>\n",
       "      <th>Return</th>\n",
       "      <th>P_Return</th>\n",
       "      <th>Hour</th>\n",
       "      <th>Min</th>\n",
       "      <th>Close_SSE</th>\n",
       "    </tr>\n",
       "  </thead>\n",
       "  <tbody>\n",
       "    <tr>\n",
       "      <th>0</th>\n",
       "      <td>2015-04-17</td>\n",
       "      <td>09:14:00</td>\n",
       "      <td>7722.0</td>\n",
       "      <td>7722.0</td>\n",
       "      <td>7722.0</td>\n",
       "      <td>7722.0</td>\n",
       "      <td>28</td>\n",
       "      <td>2015-04-17 09:14:00</td>\n",
       "      <td>2015</td>\n",
       "      <td>4</td>\n",
       "      <td>5</td>\n",
       "      <td>0.0</td>\n",
       "      <td>0.0</td>\n",
       "      <td>NaN</td>\n",
       "      <td>0</td>\n",
       "      <td>0.000000</td>\n",
       "      <td>0.000000</td>\n",
       "      <td>9</td>\n",
       "      <td>14</td>\n",
       "      <td>NaN</td>\n",
       "    </tr>\n",
       "    <tr>\n",
       "      <th>1</th>\n",
       "      <td>2015-04-17</td>\n",
       "      <td>09:15:00</td>\n",
       "      <td>7712.0</td>\n",
       "      <td>7727.6</td>\n",
       "      <td>7708.4</td>\n",
       "      <td>7708.4</td>\n",
       "      <td>608</td>\n",
       "      <td>2015-04-17 09:15:00</td>\n",
       "      <td>2015</td>\n",
       "      <td>4</td>\n",
       "      <td>5</td>\n",
       "      <td>19.2</td>\n",
       "      <td>-3.6</td>\n",
       "      <td>0.187500</td>\n",
       "      <td>-1</td>\n",
       "      <td>-0.046680</td>\n",
       "      <td>0.249079</td>\n",
       "      <td>9</td>\n",
       "      <td>15</td>\n",
       "      <td>NaN</td>\n",
       "    </tr>\n",
       "    <tr>\n",
       "      <th>2</th>\n",
       "      <td>2015-04-17</td>\n",
       "      <td>09:16:00</td>\n",
       "      <td>7722.0</td>\n",
       "      <td>7727.6</td>\n",
       "      <td>7708.4</td>\n",
       "      <td>7708.4</td>\n",
       "      <td>636</td>\n",
       "      <td>2015-04-17 09:16:00</td>\n",
       "      <td>2015</td>\n",
       "      <td>4</td>\n",
       "      <td>5</td>\n",
       "      <td>19.2</td>\n",
       "      <td>-13.6</td>\n",
       "      <td>0.708333</td>\n",
       "      <td>-1</td>\n",
       "      <td>-0.176120</td>\n",
       "      <td>0.249079</td>\n",
       "      <td>9</td>\n",
       "      <td>16</td>\n",
       "      <td>NaN</td>\n",
       "    </tr>\n",
       "    <tr>\n",
       "      <th>3</th>\n",
       "      <td>2015-04-17</td>\n",
       "      <td>09:17:00</td>\n",
       "      <td>7709.4</td>\n",
       "      <td>7709.4</td>\n",
       "      <td>7700.4</td>\n",
       "      <td>7700.4</td>\n",
       "      <td>466</td>\n",
       "      <td>2015-04-17 09:17:00</td>\n",
       "      <td>2015</td>\n",
       "      <td>4</td>\n",
       "      <td>5</td>\n",
       "      <td>9.0</td>\n",
       "      <td>-9.0</td>\n",
       "      <td>1.000000</td>\n",
       "      <td>-1</td>\n",
       "      <td>-0.116741</td>\n",
       "      <td>0.116877</td>\n",
       "      <td>9</td>\n",
       "      <td>17</td>\n",
       "      <td>NaN</td>\n",
       "    </tr>\n",
       "    <tr>\n",
       "      <th>4</th>\n",
       "      <td>2015-04-17</td>\n",
       "      <td>09:18:00</td>\n",
       "      <td>7700.0</td>\n",
       "      <td>7704.6</td>\n",
       "      <td>7699.2</td>\n",
       "      <td>7699.4</td>\n",
       "      <td>370</td>\n",
       "      <td>2015-04-17 09:18:00</td>\n",
       "      <td>2015</td>\n",
       "      <td>4</td>\n",
       "      <td>5</td>\n",
       "      <td>5.4</td>\n",
       "      <td>-0.6</td>\n",
       "      <td>0.111111</td>\n",
       "      <td>-1</td>\n",
       "      <td>-0.007792</td>\n",
       "      <td>0.070137</td>\n",
       "      <td>9</td>\n",
       "      <td>18</td>\n",
       "      <td>NaN</td>\n",
       "    </tr>\n",
       "  </tbody>\n",
       "</table>\n",
       "</div>"
      ],
      "text/plain": [
       "        Date      Time    Open    High     Low  Close_CSI500  TotalVolume  \\\n",
       "0 2015-04-17  09:14:00  7722.0  7722.0  7722.0        7722.0           28   \n",
       "1 2015-04-17  09:15:00  7712.0  7727.6  7708.4        7708.4          608   \n",
       "2 2015-04-17  09:16:00  7722.0  7727.6  7708.4        7708.4          636   \n",
       "3 2015-04-17  09:17:00  7709.4  7709.4  7700.4        7700.4          466   \n",
       "4 2015-04-17  09:18:00  7700.0  7704.6  7699.2        7699.4          370   \n",
       "\n",
       "            Date_Time  Year  Month  Week_day  Range  Diff    Rotate  Up_down  \\\n",
       "0 2015-04-17 09:14:00  2015      4         5    0.0   0.0       NaN        0   \n",
       "1 2015-04-17 09:15:00  2015      4         5   19.2  -3.6  0.187500       -1   \n",
       "2 2015-04-17 09:16:00  2015      4         5   19.2 -13.6  0.708333       -1   \n",
       "3 2015-04-17 09:17:00  2015      4         5    9.0  -9.0  1.000000       -1   \n",
       "4 2015-04-17 09:18:00  2015      4         5    5.4  -0.6  0.111111       -1   \n",
       "\n",
       "     Return  P_Return  Hour  Min  Close_SSE  \n",
       "0  0.000000  0.000000     9   14        NaN  \n",
       "1 -0.046680  0.249079     9   15        NaN  \n",
       "2 -0.176120  0.249079     9   16        NaN  \n",
       "3 -0.116741  0.116877     9   17        NaN  \n",
       "4 -0.007792  0.070137     9   18        NaN  "
      ]
     },
     "execution_count": 11,
     "metadata": {},
     "output_type": "execute_result"
    }
   ],
   "source": [
    "# Join CSI500 and SSE\n",
    "SSE_mini = SSE.loc[:,['Date_Time', 'Close']]\n",
    "CSI500_SSE = CSI500.join(SSE_mini.set_index('Date_Time'),lsuffix='_CSI500', rsuffix='_SSE', on='Date_Time')\n",
    "CSI500_SSE.head()"
   ]
  },
  {
   "cell_type": "markdown",
   "metadata": {},
   "source": [
    "### 價差分析"
   ]
  },
  {
   "cell_type": "code",
   "execution_count": 12,
   "metadata": {},
   "outputs": [],
   "source": [
    "# Price_Difference\n",
    "def Price_Difference(s1, s2):\n",
    "    pd = []\n",
    "    for i, j in zip(s1, s2):\n",
    "        if np.isnan(i) | np.isnan(j):\n",
    "            pd.append(np.nan)\n",
    "        else:\n",
    "            pd.append(i - j)\n",
    "    return pd\n",
    "CSI500_SSE['Price_Difference'] = Price_Difference(CSI500_SSE['Close_CSI500'],CSI500_SSE['Close_SSE'])"
   ]
  },
  {
   "cell_type": "code",
   "execution_count": 13,
   "metadata": {},
   "outputs": [
    {
     "data": {
      "text/plain": [
       "count    25471.000000\n",
       "mean        23.058546\n",
       "std         60.564933\n",
       "min          0.010000\n",
       "25%          3.010000\n",
       "50%          6.680000\n",
       "75%         12.740000\n",
       "max        564.620000\n",
       "Name: Price_Difference, dtype: float64"
      ]
     },
     "execution_count": 13,
     "metadata": {},
     "output_type": "execute_result"
    }
   ],
   "source": [
    "CSI500_SSE.loc[CSI500_SSE['Price_Difference'] > 0,'Price_Difference'].describe()"
   ]
  },
  {
   "cell_type": "code",
   "execution_count": 30,
   "metadata": {},
   "outputs": [
    {
     "data": {
      "text/plain": [
       "<matplotlib.axes._subplots.AxesSubplot at 0x18630c38710>"
      ]
     },
     "execution_count": 30,
     "metadata": {},
     "output_type": "execute_result"
    },
    {
     "data": {
      "image/png": "[encoded data removed]",
      "text/plain": [
       "<Figure size 432x288 with 1 Axes>"
      ]
     },
     "metadata": {
      "needs_background": "light"
     },
     "output_type": "display_data"
    }
   ],
   "source": [
    "import seaborn as sns\n",
    "sns.distplot(CSI500_SSE.loc[(CSI500_SSE['Price_Difference'] > 0) \\\n",
    "                            & (CSI500_SSE['Price_Difference'] < 100),'Price_Difference'])"
   ]
  },
  {
   "cell_type": "code",
   "execution_count": 13,
   "metadata": {},
   "outputs": [
    {
     "data": {
      "text/plain": [
       "count    217854.000000\n",
       "mean        -79.912086\n",
       "std         100.807606\n",
       "min        -889.950000\n",
       "25%         -95.470000\n",
       "50%         -42.280000\n",
       "75%         -20.410000\n",
       "max          -0.010000\n",
       "Name: Price_Difference, dtype: float64"
      ]
     },
     "execution_count": 13,
     "metadata": {},
     "output_type": "execute_result"
    }
   ],
   "source": [
    "CSI500_SSE.loc[CSI500_SSE['Price_Difference'] < 0,'Price_Difference'].describe()"
   ]
  },
  {
   "cell_type": "code",
   "execution_count": 32,
   "metadata": {},
   "outputs": [
    {
     "data": {
      "text/plain": [
       "<matplotlib.axes._subplots.AxesSubplot at 0x18630ae01d0>"
      ]
     },
     "execution_count": 32,
     "metadata": {},
     "output_type": "execute_result"
    },
    {
     "data": {
      "image/png": "[encoded data removed]",
      "text/plain": [
       "<Figure size 432x288 with 1 Axes>"
      ]
     },
     "metadata": {
      "needs_background": "light"
     },
     "output_type": "display_data"
    }
   ],
   "source": [
    "sns.distplot(CSI500_SSE.loc[(CSI500_SSE['Price_Difference'] < 0) \\\n",
    "                            & (CSI500_SSE['Price_Difference'] > -150),'Price_Difference'])"
   ]
  },
  {
   "cell_type": "markdown",
   "metadata": {},
   "source": [
    "## Random Forest Return Threshold Prediction Model  "
   ]
  },
  {
   "cell_type": "markdown",
   "metadata": {},
   "source": [
    "### 計算未來幾根k報酬率"
   ]
  },
  {
   "cell_type": "code",
   "execution_count": 14,
   "metadata": {},
   "outputs": [],
   "source": [
    "# Future l k return\n",
    "def future_return(s1, l):\n",
    "    list1 = []\n",
    "    for idx, val in enumerate(s1):\n",
    "        if (idx + l) <= (len(s1) - 1):\n",
    "            list1.append((s1[idx + l] - s1[idx]) / s1[idx])\n",
    "        else:\n",
    "            list1.append(0)\n",
    "    return list1"
   ]
  },
  {
   "cell_type": "markdown",
   "metadata": {},
   "source": [
    "### 5分k基本特徵值"
   ]
  },
  {
   "cell_type": "code",
   "execution_count": 15,
   "metadata": {
    "scrolled": true
   },
   "outputs": [
    {
     "data": {
      "text/html": [
       "<div>\n",
       "<style scoped>\n",
       "    .dataframe tbody tr th:only-of-type {\n",
       "        vertical-align: middle;\n",
       "    }\n",
       "\n",
       "    .dataframe tbody tr th {\n",
       "        vertical-align: top;\n",
       "    }\n",
       "\n",
       "    .dataframe thead th {\n",
       "        text-align: right;\n",
       "    }\n",
       "</style>\n",
       "<table border=\"1\" class=\"dataframe\">\n",
       "  <thead>\n",
       "    <tr style=\"text-align: right;\">\n",
       "      <th></th>\n",
       "      <th>Date_Time</th>\n",
       "      <th>Date</th>\n",
       "      <th>Time</th>\n",
       "      <th>Open</th>\n",
       "      <th>High</th>\n",
       "      <th>Low</th>\n",
       "      <th>Close_CSI500</th>\n",
       "      <th>TotalVolume</th>\n",
       "      <th>Year</th>\n",
       "      <th>Month</th>\n",
       "      <th>...</th>\n",
       "      <th>future_Return_30</th>\n",
       "      <th>future_Return_35</th>\n",
       "      <th>future_Return_40</th>\n",
       "      <th>future_Return_45</th>\n",
       "      <th>future_Return_50</th>\n",
       "      <th>MA_10</th>\n",
       "      <th>MA_20</th>\n",
       "      <th>MA_30</th>\n",
       "      <th>MA_40</th>\n",
       "      <th>MA_50</th>\n",
       "    </tr>\n",
       "  </thead>\n",
       "  <tbody>\n",
       "    <tr>\n",
       "      <th>0</th>\n",
       "      <td>2015-04-17 09:30:00</td>\n",
       "      <td>2015-04-17</td>\n",
       "      <td>09:34:00</td>\n",
       "      <td>7675.6</td>\n",
       "      <td>7694.8</td>\n",
       "      <td>7672.8</td>\n",
       "      <td>7694.8</td>\n",
       "      <td>461.0</td>\n",
       "      <td>2015.0</td>\n",
       "      <td>4.0</td>\n",
       "      <td>...</td>\n",
       "      <td>0.014009</td>\n",
       "      <td>0.015647</td>\n",
       "      <td>0.015777</td>\n",
       "      <td>0.020014</td>\n",
       "      <td>0.001014</td>\n",
       "      <td>0.0</td>\n",
       "      <td>0.0</td>\n",
       "      <td>0.0</td>\n",
       "      <td>0.0</td>\n",
       "      <td>0.0</td>\n",
       "    </tr>\n",
       "    <tr>\n",
       "      <th>1</th>\n",
       "      <td>2015-04-17 09:35:00</td>\n",
       "      <td>2015-04-17</td>\n",
       "      <td>09:39:00</td>\n",
       "      <td>7762.8</td>\n",
       "      <td>7779.6</td>\n",
       "      <td>7752.0</td>\n",
       "      <td>7752.0</td>\n",
       "      <td>800.0</td>\n",
       "      <td>2015.0</td>\n",
       "      <td>4.0</td>\n",
       "      <td>...</td>\n",
       "      <td>0.005831</td>\n",
       "      <td>0.008101</td>\n",
       "      <td>0.014577</td>\n",
       "      <td>0.001419</td>\n",
       "      <td>-0.003354</td>\n",
       "      <td>0.0</td>\n",
       "      <td>0.0</td>\n",
       "      <td>0.0</td>\n",
       "      <td>0.0</td>\n",
       "      <td>0.0</td>\n",
       "    </tr>\n",
       "    <tr>\n",
       "      <th>2</th>\n",
       "      <td>2015-04-17 09:40:00</td>\n",
       "      <td>2015-04-17</td>\n",
       "      <td>09:44:00</td>\n",
       "      <td>7730.4</td>\n",
       "      <td>7749.0</td>\n",
       "      <td>7730.2</td>\n",
       "      <td>7740.0</td>\n",
       "      <td>523.0</td>\n",
       "      <td>2015.0</td>\n",
       "      <td>4.0</td>\n",
       "      <td>...</td>\n",
       "      <td>0.006718</td>\n",
       "      <td>0.012145</td>\n",
       "      <td>0.015452</td>\n",
       "      <td>0.001550</td>\n",
       "      <td>0.000103</td>\n",
       "      <td>0.0</td>\n",
       "      <td>0.0</td>\n",
       "      <td>0.0</td>\n",
       "      <td>0.0</td>\n",
       "      <td>0.0</td>\n",
       "    </tr>\n",
       "    <tr>\n",
       "      <th>3</th>\n",
       "      <td>2015-04-17 09:45:00</td>\n",
       "      <td>2015-04-17</td>\n",
       "      <td>09:49:00</td>\n",
       "      <td>7751.2</td>\n",
       "      <td>7780.4</td>\n",
       "      <td>7747.8</td>\n",
       "      <td>7774.6</td>\n",
       "      <td>753.0</td>\n",
       "      <td>2015.0</td>\n",
       "      <td>4.0</td>\n",
       "      <td>...</td>\n",
       "      <td>0.000051</td>\n",
       "      <td>0.005608</td>\n",
       "      <td>0.010058</td>\n",
       "      <td>-0.002804</td>\n",
       "      <td>-0.000592</td>\n",
       "      <td>0.0</td>\n",
       "      <td>0.0</td>\n",
       "      <td>0.0</td>\n",
       "      <td>0.0</td>\n",
       "      <td>0.0</td>\n",
       "    </tr>\n",
       "    <tr>\n",
       "      <th>4</th>\n",
       "      <td>2015-04-17 09:50:00</td>\n",
       "      <td>2015-04-17</td>\n",
       "      <td>09:54:00</td>\n",
       "      <td>7850.0</td>\n",
       "      <td>7859.0</td>\n",
       "      <td>7840.0</td>\n",
       "      <td>7850.4</td>\n",
       "      <td>742.0</td>\n",
       "      <td>2015.0</td>\n",
       "      <td>4.0</td>\n",
       "      <td>...</td>\n",
       "      <td>-0.009375</td>\n",
       "      <td>-0.004764</td>\n",
       "      <td>-0.001605</td>\n",
       "      <td>-0.008203</td>\n",
       "      <td>-0.016254</td>\n",
       "      <td>0.0</td>\n",
       "      <td>0.0</td>\n",
       "      <td>0.0</td>\n",
       "      <td>0.0</td>\n",
       "      <td>0.0</td>\n",
       "    </tr>\n",
       "  </tbody>\n",
       "</table>\n",
       "<p>5 rows × 45 columns</p>\n",
       "</div>"
      ],
      "text/plain": [
       "            Date_Time       Date      Time    Open    High     Low  \\\n",
       "0 2015-04-17 09:30:00 2015-04-17  09:34:00  7675.6  7694.8  7672.8   \n",
       "1 2015-04-17 09:35:00 2015-04-17  09:39:00  7762.8  7779.6  7752.0   \n",
       "2 2015-04-17 09:40:00 2015-04-17  09:44:00  7730.4  7749.0  7730.2   \n",
       "3 2015-04-17 09:45:00 2015-04-17  09:49:00  7751.2  7780.4  7747.8   \n",
       "4 2015-04-17 09:50:00 2015-04-17  09:54:00  7850.0  7859.0  7840.0   \n",
       "\n",
       "   Close_CSI500  TotalVolume    Year  Month  ...  future_Return_30  \\\n",
       "0        7694.8        461.0  2015.0    4.0  ...          0.014009   \n",
       "1        7752.0        800.0  2015.0    4.0  ...          0.005831   \n",
       "2        7740.0        523.0  2015.0    4.0  ...          0.006718   \n",
       "3        7774.6        753.0  2015.0    4.0  ...          0.000051   \n",
       "4        7850.4        742.0  2015.0    4.0  ...         -0.009375   \n",
       "\n",
       "   future_Return_35  future_Return_40  future_Return_45  future_Return_50  \\\n",
       "0          0.015647          0.015777          0.020014          0.001014   \n",
       "1          0.008101          0.014577          0.001419         -0.003354   \n",
       "2          0.012145          0.015452          0.001550          0.000103   \n",
       "3          0.005608          0.010058         -0.002804         -0.000592   \n",
       "4         -0.004764         -0.001605         -0.008203         -0.016254   \n",
       "\n",
       "   MA_10  MA_20  MA_30  MA_40  MA_50  \n",
       "0    0.0    0.0    0.0    0.0    0.0  \n",
       "1    0.0    0.0    0.0    0.0    0.0  \n",
       "2    0.0    0.0    0.0    0.0    0.0  \n",
       "3    0.0    0.0    0.0    0.0    0.0  \n",
       "4    0.0    0.0    0.0    0.0    0.0  \n",
       "\n",
       "[5 rows x 45 columns]"
      ]
     },
     "execution_count": 15,
     "metadata": {},
     "output_type": "execute_result"
    }
   ],
   "source": [
    "# from min k to 5 min k \n",
    "stock = CSI500_SSE.set_index('Date_Time')\n",
    "period_type = '5T'\n",
    "period_stock_data = stock.resample(period_type,how='last')\n",
    "\n",
    "# Original variables\n",
    "period_stock_data['open_%s'%(period_type)] = stock['Open'].resample(period_type,how='first')\n",
    "period_stock_data['close_%s'%(period_type)] = stock['Close_CSI500'].resample(period_type,how='last')\n",
    "period_stock_data['high_%s'%(period_type)] = stock['High'].resample(period_type,how='max')\n",
    "period_stock_data['low_%s'%(period_type)] = stock['Low'].resample(period_type,how='min')\n",
    "period_stock_data['volume_%s'%(period_type)] = stock['TotalVolume'].resample(period_type,how='sum')\n",
    "\n",
    "# derivitive vairables\n",
    "period_stock_data['range_%s'%(period_type)] = \\\n",
    "period_stock_data['high_%s'%(period_type)] - period_stock_data['low_%s'%(period_type)]\n",
    "period_stock_data['diff_%s'%(period_type)] = \\\n",
    "period_stock_data['close_%s'%(period_type)] - period_stock_data['open_%s'%(period_type)]\n",
    "period_stock_data['rotate_%s'%(period_type)] = \\\n",
    "abs(period_stock_data['range_%s'%(period_type)]) / period_stock_data['diff_%s'%(period_type)]\n",
    "\n",
    "# Price_Difference(Future & Spot)\n",
    "period_stock_data['price_dif_%s'%(period_type)] = stock['Price_Difference'].resample(period_type,how='sum')\n",
    "\n",
    "# Returns\n",
    "period_stock_data['return_%s'%(period_type)] = \\\n",
    "((period_stock_data['close_%s'%(period_type)] -  period_stock_data['open_%s'%(period_type)])\\\n",
    " / period_stock_data['open_%s'%(period_type)]) \n",
    "period_stock_data['P_return_%s'%(period_type)] = \\\n",
    "((period_stock_data['high_%s'%(period_type)] - period_stock_data['low_%s'%(period_type)]) \\\n",
    " / period_stock_data['low_%s'%(period_type)]) \n",
    "\n",
    "period_stock_data.dropna(how='any',inplace=True)\n",
    "period_stock_data.reset_index(inplace=True)\n",
    "\n",
    "# Handeling fee ratio\n",
    "period_stock_data['handeling_fee_ratio'] = 1000 / (period_stock_data['Close_CSI500'] * 200)\n",
    "\n",
    "# Future_return (In 1 day, 52 k )\n",
    "period_stock_data['future_Return_10'] = future_return(period_stock_data['Close_CSI500'], 10)\n",
    "period_stock_data['future_Return_20'] = future_return(period_stock_data['Close_CSI500'], 20)\n",
    "period_stock_data['future_Return_30'] = future_return(period_stock_data['Close_CSI500'], 30)\n",
    "period_stock_data['future_Return_35'] = future_return(period_stock_data['Close_CSI500'], 35)\n",
    "period_stock_data['future_Return_40'] = future_return(period_stock_data['Close_CSI500'], 40)\n",
    "period_stock_data['future_Return_45'] = future_return(period_stock_data['Close_CSI500'], 45)\n",
    "period_stock_data['future_Return_50'] = future_return(period_stock_data['Close_CSI500'], 50)\n",
    "\n",
    "# Moving Average\n",
    "period_stock_data['MA_10'] = period_stock_data['close_5T'].rolling(window=10).mean()\n",
    "period_stock_data['MA_10'] = period_stock_data['MA_10'].fillna(0)\n",
    "period_stock_data['MA_20'] = period_stock_data['close_5T'].rolling(window=20).mean()\n",
    "period_stock_data['MA_20'] = period_stock_data['MA_20'].fillna(0)\n",
    "period_stock_data['MA_30'] = period_stock_data['close_5T'].rolling(window=30).mean()\n",
    "period_stock_data['MA_30'] = period_stock_data['MA_30'].fillna(0)\n",
    "period_stock_data['MA_40'] = period_stock_data['close_5T'].rolling(window=40).mean()\n",
    "period_stock_data['MA_40'] = period_stock_data['MA_40'].fillna(0)\n",
    "period_stock_data['MA_50'] = period_stock_data['close_5T'].rolling(window=50).mean()\n",
    "period_stock_data['MA_50'] = period_stock_data['MA_50'].fillna(0)\n",
    "period_stock_data.head()"
   ]
  },
  {
   "cell_type": "markdown",
   "metadata": {},
   "source": [
    "### 手續費/契約價值占比"
   ]
  },
  {
   "cell_type": "code",
   "execution_count": 16,
   "metadata": {},
   "outputs": [
    {
     "data": {
      "text/plain": [
       "count    50663.000000\n",
       "mean         0.000845\n",
       "std          0.000147\n",
       "min          0.000432\n",
       "25%          0.000775\n",
       "50%          0.000819\n",
       "75%          0.000897\n",
       "max          0.001255\n",
       "Name: handeling_fee_ratio, dtype: float64"
      ]
     },
     "execution_count": 16,
     "metadata": {},
     "output_type": "execute_result"
    }
   ],
   "source": [
    "period_stock_data['handeling_fee_ratio'].describe()"
   ]
  },
  {
   "cell_type": "markdown",
   "metadata": {},
   "source": [
    "### 衍生變數處理"
   ]
  },
  {
   "cell_type": "code",
   "execution_count": 17,
   "metadata": {},
   "outputs": [],
   "source": [
    "# RSI\n",
    "def cal_U(num):\n",
    "    if num >= 0:\n",
    "        return num\n",
    "    else:\n",
    "        return 0\n",
    "def cal_D(num):\n",
    "    num = -num\n",
    "    return cal_U(num)\n",
    " \n",
    "period_stock_data['U'] = period_stock_data['diff_5T'].apply(cal_U)\n",
    "period_stock_data['D'] = period_stock_data['diff_5T'].apply(cal_D)\n",
    "period_stock_data['ema_U'] = period_stock_data['U'].ewm(span=14).mean()\n",
    "period_stock_data['ema_D'] = period_stock_data['D'].ewm(span=14).mean()\n",
    "period_stock_data['RS'] = period_stock_data['ema_U'].div(period_stock_data['ema_D'])\n",
    "period_stock_data['RSI'] = period_stock_data['RS'].apply(lambda rs:rs/(1+rs) * 100)\n",
    "period_stock_data['RSI'] = period_stock_data['RSI'].fillna(0)\n",
    "\n",
    "# Red or Black\n",
    "period_stock_data['RB_k'] = period_stock_data['diff_5T'].map(lambda x: 1 if x > 0 else (-1 if x < 0 else 0))\n",
    "\n",
    "# Return over Q2 (10%)\n",
    "period_stock_data['Over_Q2'] = period_stock_data['return_5T'].map(lambda x: 1 if abs(x) > 0.10 else 0)\n",
    "\n",
    "# Future Return cover handling fee (14%)\n",
    "period_stock_data['future_Return_10_cov'] = period_stock_data['future_Return_10'].map(lambda x: 1 if abs(x) > 0.014 else 0)\n",
    "period_stock_data['future_Return_20_cov'] = period_stock_data['future_Return_20'].map(lambda x: 1 if abs(x) > 0.014 else 0)\n",
    "period_stock_data['future_Return_30_cov'] = period_stock_data['future_Return_30'].map(lambda x: 1 if abs(x) > 0.014 else 0)\n",
    "period_stock_data['future_Return_35_cov'] = period_stock_data['future_Return_35'].map(lambda x: 1 if abs(x) > 0.014 else 0)\n",
    "period_stock_data['future_Return_40_cov'] = period_stock_data['future_Return_40'].map(lambda x: 1 if abs(x) > 0.014 else 0)\n",
    "period_stock_data['future_Return_45_cov'] = period_stock_data['future_Return_45'].map(lambda x: 1 if abs(x) > 0.014 else 0)\n",
    "period_stock_data['future_Return_50_cov'] = period_stock_data['future_Return_50'].map(lambda x: 1 if abs(x) > 0.014 else 0)"
   ]
  },
  {
   "cell_type": "code",
   "execution_count": 18,
   "metadata": {},
   "outputs": [],
   "source": [
    "# Dummy variables\n",
    "period_stock_data = \\\n",
    "period_stock_data.reset_index().merge(pd.get_dummies(period_stock_data['Week_day'],prefix='Week_day',drop_first=True).\\\n",
    "                                      reset_index())\n",
    "period_stock_data = \\\n",
    "period_stock_data.merge(pd.get_dummies(period_stock_data['Month'],prefix='Month',drop_first=True).reset_index())\n",
    "period_stock_data = \\\n",
    "period_stock_data.merge(pd.get_dummies(period_stock_data['Year'],prefix='Year',drop_first=True).reset_index())\n",
    "\n",
    "# y 變數\n",
    "period_stock_data['future_y1'] = period_stock_data['future_Return_10_cov'] \n",
    "period_stock_data['future_y2'] = period_stock_data['future_Return_20_cov'] \n",
    "period_stock_data['future_y3'] = period_stock_data['future_Return_30_cov'] \n",
    "period_stock_data['future_y3_1'] = period_stock_data['future_Return_35_cov'] \n",
    "period_stock_data['future_y4'] = period_stock_data['future_Return_40_cov'] \n",
    "period_stock_data['future_y4_1'] = period_stock_data['future_Return_45_cov'] \n",
    "period_stock_data['future_y5'] = period_stock_data['future_Return_50_cov'] "
   ]
  },
  {
   "cell_type": "markdown",
   "metadata": {},
   "source": [
    "### 訓練/測試資料切分"
   ]
  },
  {
   "cell_type": "code",
   "execution_count": 145,
   "metadata": {},
   "outputs": [],
   "source": [
    "#Split data (Train/ Test)\n",
    "start_date = datetime.strptime('2015-07-01', '%Y-%m-%d')\n",
    "end_date = datetime.strptime('2017-07-01', '%Y-%m-%d')\n",
    "msk = (period_stock_data['Date'] <= end_date) & (period_stock_data['Date'] >= start_date)\n",
    "period_stock_train = period_stock_data.loc[~msk]\n",
    "period_stock_test = period_stock_data.loc[msk]"
   ]
  },
  {
   "cell_type": "code",
   "execution_count": 41,
   "metadata": {
    "scrolled": true
   },
   "outputs": [
    {
     "data": {
      "text/plain": [
       "array(['index', 'Date_Time', 'Date', 'Time', 'Open', 'High', 'Low',\n",
       "       'Close_CSI500', 'TotalVolume', 'Year', 'Month', 'Week_day',\n",
       "       'Range', 'Diff', 'Rotate', 'Up_down', 'Return', 'P_Return', 'Hour',\n",
       "       'Min', 'Close_SSE', 'Price_Difference', 'open_5T', 'close_5T',\n",
       "       'high_5T', 'low_5T', 'volume_5T', 'range_5T', 'diff_5T',\n",
       "       'rotate_5T', 'price_dif_5T', 'return_5T', 'P_return_5T',\n",
       "       'handeling_fee_ratio', 'future_Return_10', 'future_Return_20',\n",
       "       'future_Return_30', 'future_Return_35', 'future_Return_40',\n",
       "       'future_Return_45', 'future_Return_50', 'MA_10', 'MA_20', 'MA_30',\n",
       "       'MA_40', 'MA_50', 'U', 'D', 'ema_U', 'ema_D', 'RS', 'RSI', 'RB_k',\n",
       "       'Over_Q2', 'future_Return_10_cov', 'future_Return_20_cov',\n",
       "       'future_Return_30_cov', 'future_Return_35_cov',\n",
       "       'future_Return_40_cov', 'future_Return_45_cov',\n",
       "       'future_Return_50_cov', 'Week_day_2.0', 'Week_day_3.0',\n",
       "       'Week_day_4.0', 'Week_day_5.0', 'Month_2.0', 'Month_3.0',\n",
       "       'Month_4.0', 'Month_5.0', 'Month_6.0', 'Month_7.0', 'Month_8.0',\n",
       "       'Month_9.0', 'Month_10.0', 'Month_11.0', 'Month_12.0',\n",
       "       'Year_2016.0', 'Year_2017.0', 'Year_2018.0', 'Year_2019.0',\n",
       "       'future_y1', 'future_y2', 'future_y3', 'future_y3_1', 'future_y4',\n",
       "       'future_y4_1', 'future_y5'], dtype=object)"
      ]
     },
     "execution_count": 41,
     "metadata": {},
     "output_type": "execute_result"
    }
   ],
   "source": [
    "# All column\n",
    "period_stock_train.columns.values"
   ]
  },
  {
   "cell_type": "code",
   "execution_count": 146,
   "metadata": {},
   "outputs": [],
   "source": [
    "# X y 切分\n",
    "#idx = []\n",
    "#for i in list(range(21,29)) + list(range(30,33)) + list(range(37,39)):\n",
    "    #idx.append(i)\n",
    "idx_c = ['Year_2016.0', 'Year_2017.0', 'Year_2018.0','Year_2019.0',\n",
    "         'Month_2.0','Month_3.0', 'Month_4.0', 'Month_5.0', 'Month_6.0', 'Month_7.0',\n",
    "         'Month_8.0', 'Month_9.0', 'Month_10.0', 'Month_11.0', 'Month_12.0',\n",
    "         'Week_day_2.0', 'Week_day_3.0', 'Week_day_4.0', 'Week_day_5.0',\n",
    "         'open_5T', 'close_5T', 'high_5T','low_5T', 'volume_5T',\n",
    "         'price_dif_5T', 'diff_5T', 'range_5T','return_5T',\n",
    "         'RB_k','Over_Q2', 'MA_10','MA_20','MA_30','MA_40','MA_50','RSI']\n",
    "# idx_c = ['open_5T', 'close_5T', 'high_5T','low_5T', 'volume_5T']\n",
    "X_train = period_stock_train.loc[:, idx_c].values\n",
    "y_train_1 = period_stock_train.loc[:, 'future_y1'].values\n",
    "y_train_2 = period_stock_train.loc[:, 'future_y2'].values\n",
    "y_train_3 = period_stock_train.loc[:, 'future_y3'].values\n",
    "y_train_3_1 = period_stock_train.loc[:, 'future_y3_1'].values\n",
    "y_train_4 = period_stock_train.loc[:, 'future_y4'].values\n",
    "y_train_4_1 = period_stock_train.loc[:, 'future_y4_1'].values\n",
    "y_train_5 = period_stock_train.loc[:, 'future_y5'].values\n",
    "\n",
    "X_test = period_stock_test.loc[:, idx_c].values\n",
    "y_test_1 = period_stock_test.loc[:, 'future_y1'].values\n",
    "y_test_2 = period_stock_test.loc[:, 'future_y2'].values\n",
    "y_test_3 = period_stock_test.loc[:, 'future_y3'].values\n",
    "y_test_3_1 = period_stock_test.loc[:, 'future_y3_1'].values\n",
    "y_test_4 = period_stock_test.loc[:, 'future_y4'].values\n",
    "y_test_4_1 = period_stock_test.loc[:, 'future_y4_1'].values\n",
    "y_test_5 = period_stock_test.loc[:, 'future_y5'].values\n",
    "\n",
    "X_full = period_stock_data.loc[:, idx_c].values"
   ]
  },
  {
   "cell_type": "markdown",
   "metadata": {},
   "source": [
    "### 建模套用"
   ]
  },
  {
   "cell_type": "code",
   "execution_count": 147,
   "metadata": {},
   "outputs": [],
   "source": [
    "# Feature Scaling\n",
    "from sklearn.preprocessing import StandardScaler\n",
    "sc = StandardScaler()\n",
    "X_train = sc.fit_transform(X_train)\n",
    "X_test = sc.transform(X_test)\n",
    "X_full = sc.fit_transform(X_full)"
   ]
  },
  {
   "cell_type": "code",
   "execution_count": 148,
   "metadata": {
    "scrolled": true
   },
   "outputs": [],
   "source": [
    "# Fitting RandomForestClassifier to the Training set\n",
    "from sklearn.ensemble import RandomForestClassifier\n",
    "classifier = RandomForestClassifier(n_estimators=19, max_depth=15)\n",
    "\n",
    "classifier.fit(X_train, y_train_1)\n",
    "y_pred1 = classifier.predict(X_full)\n",
    "y_pred1_1 = classifier.predict(X_test)\n",
    "\n",
    "classifier.fit(X_train, y_train_2)\n",
    "y_pred2 = classifier.predict(X_full)\n",
    "y_pred2_1 = classifier.predict(X_test)\n",
    "\n",
    "classifier.fit(X_train, y_train_3)\n",
    "y_pred3 = classifier.predict(X_full)\n",
    "y_pred3_1 = classifier.predict(X_test)\n",
    "\n",
    "classifier.fit(X_train, y_train_3_1)\n",
    "y_pred3_1_1 = classifier.predict(X_full)\n",
    "y_pred3_1_2 = classifier.predict(X_test)\n",
    "\n",
    "classifier.fit(X_train, y_train_4)\n",
    "y_pred4 = classifier.predict(X_full)\n",
    "y_pred4_1 = classifier.predict(X_test)\n",
    "\n",
    "classifier.fit(X_train, y_train_4_1)\n",
    "y_pred4_1_1 = classifier.predict(X_full)\n",
    "y_pred4_1_2 = classifier.predict(X_test)\n",
    "\n",
    "classifier.fit(X_train, y_train_5)\n",
    "y_pred5 = classifier.predict(X_full)\n",
    "y_pred5_1 = classifier.predict(X_test)"
   ]
  },
  {
   "cell_type": "code",
   "execution_count": null,
   "metadata": {},
   "outputs": [],
   "source": [
    "# Acuuracy\n",
    "from sklearn import datasets, metrics\n",
    "acc1 = metrics.accuracy_score(y_test_1, y_pred1_1)\n",
    "acc2 = metrics.accuracy_score(y_test_2, y_pred2_1)\n",
    "acc3 = metrics.accuracy_score(y_test_3, y_pred3_1)\n",
    "acc4 = metrics.accuracy_score(y_test_3_1, y_pred3_1_2)\n",
    "acc5 = metrics.accuracy_score(y_test_4, y_pred4_1)\n",
    "acc6 = metrics.accuracy_score(y_test_4_1, y_pred4_1_2)\n",
    "acc7 = metrics.accuracy_score(y_test_5, y_pred5_1)\n",
    "data = {'accuracy': [acc1, acc2, acc3, acc4, acc5, acc6, acc7]}\n",
    "df_acc = pd.DataFrame(data, index=['10k', '20k', '30k', '35k', '40k', '45k', '50k'])"
   ]
  },
  {
   "cell_type": "code",
   "execution_count": 151,
   "metadata": {
    "scrolled": true
   },
   "outputs": [
    {
     "data": {
      "text/plain": [
       "<matplotlib.axes._subplots.AxesSubplot at 0x2409ae5f3c8>"
      ]
     },
     "execution_count": 151,
     "metadata": {},
     "output_type": "execute_result"
    },
    {
     "data": {
      "image/png": "[encoded data removed]",
      "text/plain": [
       "<Figure size 432x288 with 1 Axes>"
      ]
     },
     "metadata": {
      "needs_background": "light"
     },
     "output_type": "display_data"
    }
   ],
   "source": [
    "df_acc.plot.line()"
   ]
  },
  {
   "cell_type": "markdown",
   "metadata": {},
   "source": [
    "### 資料輸出"
   ]
  },
  {
   "cell_type": "code",
   "execution_count": null,
   "metadata": {},
   "outputs": [],
   "source": [
    "# Export the outcome\n",
    "data1 = pd.DataFrame({'Date': period_stock_data['Date'], 'Time': period_stock_data['Time'],'10k': y_pred1})\n",
    "data2 = pd.DataFrame({'Date': period_stock_data['Date'], 'Time': period_stock_data['Time'],'20k': y_pred2})\n",
    "data3 = pd.DataFrame({'Date': period_stock_data['Date'], 'Time': period_stock_data['Time'],'30k': y_pred3})\n",
    "data4 = pd.DataFrame({'Date': period_stock_data['Date'], 'Time': period_stock_data['Time'],'35k': y_pred3_1_1})\n",
    "data5 = pd.DataFrame({'Date': period_stock_data['Date'], 'Time': period_stock_data['Time'],'40k': y_pred4})\n",
    "data6 = pd.DataFrame({'Date': period_stock_data['Date'], 'Time': period_stock_data['Time'],'45k': y_pred4_1_1})\n",
    "data7 = pd.DataFrame({'Date': period_stock_data['Date'], 'Time': period_stock_data['Time'],'50k': y_pred5})\n",
    "\n",
    "data1.set_index('Date').to_csv( 'RF_1.csv')\n",
    "data2.set_index('Date').to_csv( 'RF_2.csv')\n",
    "data3.set_index('Date').to_csv( 'RF_3.csv')\n",
    "data4.set_index('Date').to_csv( 'RF_4.csv')\n",
    "data5.set_index('Date').to_csv( 'RF_5.csv')\n",
    "data6.set_index('Date').to_csv( 'RF_6.csv')\n",
    "data7.set_index('Date').to_csv( 'RF_7.csv')"
   ]
  }
 ],
 "metadata": {
  "kernelspec": {
   "display_name": "Python 3",
   "language": "python",
   "name": "python3"
  },
  "language_info": {
   "codemirror_mode": {
    "name": "ipython",
    "version": 3
   },
   "file_extension": ".py",
   "mimetype": "text/x-python",
   "name": "python",
   "nbconvert_exporter": "python",
   "pygments_lexer": "ipython3",
   "version": "3.7.3"
  }
 },
 "nbformat": 4,
 "nbformat_minor": 2
}
